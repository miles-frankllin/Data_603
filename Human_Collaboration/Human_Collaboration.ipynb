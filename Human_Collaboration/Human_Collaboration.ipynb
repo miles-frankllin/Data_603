{
 "cells": [
  {
   "cell_type": "markdown",
   "metadata": {},
   "source": [
    "# Overview\n",
    "Projects often need human collaboration to reach their full potential. At the time of this creation, we have run this project with two datasets and achieved dramatically different results. The main difference being the quality of the dataset labels. In our first run we used the images scraped from the Race Identification project for the no mask group, and added in only 100 or so images to represent the mask wearing group. This model scored an accuracy of roughly 80% on unseen data. In our current model, we have nearly 2000 images split evenly, and at times can only predict at 50% accuracy. This means after all of the effort put in, our model is essentially just flipping a coing on every image. So, to get the most out of this larger dataset, we make sure the label are of the highest quality.\n",
    "\n",
    "The process seen below is similar to that of an Amazon Turk, where we have to manually go though a label each image. Rather than over riding the image labels, we will save this updated label separately, as a new feature, for further analysis moving forward. "
   ]
  },
  {
   "cell_type": "markdown",
   "metadata": {},
   "source": [
    "# Imports"
   ]
  },
  {
   "cell_type": "code",
   "execution_count": 1,
   "metadata": {},
   "outputs": [],
   "source": [
    "from IPython.display import clear_output\n",
    "\n",
    "import pickle\n",
    "from PIL import Image \n",
    "import pandas as pd\n",
    "import pymongo\n",
    "import numpy as np\n",
    "import json\n",
    "import time"
   ]
  },
  {
   "cell_type": "markdown",
   "metadata": {},
   "source": [
    "# Connecting to MongoDB"
   ]
  },
  {
   "cell_type": "code",
   "execution_count": 2,
   "metadata": {},
   "outputs": [],
   "source": [
    "user = \"\"\n",
    "pswd = \"\""
   ]
  },
  {
   "cell_type": "code",
   "execution_count": 3,
   "metadata": {},
   "outputs": [],
   "source": [
    "client = pymongo.MongoClient(\"mongodb+srv://{}:{}@cluster0.x6cn9.mongodb.net/DATA_603?retryWrites=true&w=majority\".format(user, pswd))\n",
    "db = client[\"DATA_603\"]\n",
    "# collection = db[\"images\"]"
   ]
  },
  {
   "cell_type": "markdown",
   "metadata": {},
   "source": [
    "# Manually Labeling Data\n",
    "By running the script below, you will have the opportunity to run through each image in the database and label, or delete accordingly. Your progress will be saved after each run, although it is encouraged that you finish a DB Collection prior to ending so that you don't have to relabel images. This saved state can be found in Human_Collaboration_Last_Saved.txt. Additionally, please use the enter key to escape safely and ensure your progress is saved."
   ]
  },
  {
   "cell_type": "code",
   "execution_count": 7,
   "metadata": {},
   "outputs": [
    {
     "name": "stdout",
     "output_type": "stream",
     "text": [
      "Collection 31 out of 54\n",
      "Index 6 out of 38\n"
     ]
    },
    {
     "data": {
      "image/png": "[encoded data removed]",
      "text/plain": [
       "<PIL.Image.Image image mode=RGB size=150x150 at 0x7F8E34AE7580>"
      ]
     },
     "metadata": {},
     "output_type": "display_data"
    },
    {
     "name": "stdout",
     "output_type": "stream",
     "text": [
      "Please enter one of the following:\n",
      "\t 'y' If the Image contains a person wearing a mask.\n",
      "\t 'n' If the Image contains a person not wearing a mask.\n",
      "\t 'd' If the image should be deleted.\n",
      "\t  Or press  Enter to end the session.\n",
      "\n",
      "{'collection': 31, 'index': 6}\n"
     ]
    }
   ],
   "source": [
    "def load_df(collection):\n",
    "    print(\"Loading Data Frame\", end=\"...\\t\")\n",
    "    df_ = pd.DataFrame(db[\"images_{}\".format(collection)].find({}))\n",
    "    df_[\"numpy_arr\"] = df_[\"numpy_arr\"].apply(lambda x: pickle.loads(x))\n",
    "    df_[\"numpy_arr\"] = df_[\"numpy_arr\"].apply(lambda x: Image.fromarray(x, 'RGB')) \n",
    "    print(\"Done\\n\")\n",
    "    \n",
    "    return df_\n",
    "\n",
    "def save_location(c, i):\n",
    "    location = {\"collection\": c, \"index\":i}\n",
    "    \n",
    "    with open('Human_Collaboration_Last_Saved.txt', 'w') as outfile:\n",
    "        json.dump(location, outfile)\n",
    "\n",
    "def open_saved_location():\n",
    "    with open('Human_Collaboration_Last_Saved.txt') as json_file:\n",
    "        location = json.load(json_file)\n",
    "        return location\n",
    "        \n",
    "def update_in_MongoDB(df, index, collection, label):\n",
    "    c = db[\"images_{}\".format(collection)]\n",
    "    c.find_one_and_update({\"_id\": df.iloc[index, :][\"_id\"]}, \n",
    "                          {'$set': {\"hand_labled_target\": label}})\n",
    "        \n",
    "def delete_from_MongoDB(df, index, collection):\n",
    "    print(\"Deleting Entry\", end=\"...\\t\")\n",
    "    c = db[\"images_{}\".format(collection)]\n",
    "    c.find_one_and_delete({\"_id\": df.iloc[index, :][\"_id\"]})\n",
    "    print(\"Done\\n\")\n",
    "\n",
    "def reset():\n",
    "    save_location(c=1, i=0)\n",
    "    \n",
    "location = open_saved_location()\n",
    "print(location)\n",
    "\n",
    "for collection in range(location[\"collection\"],55):\n",
    "    df = load_df(collection)\n",
    "    time.sleep(1)\n",
    "    for i in range(len(df)):\n",
    "    # for i in range(22,len(df)):\n",
    "        save_location(c=collection, i=i)\n",
    "        user = \"---\"\n",
    "        \n",
    "        while user.lower() not in [\"y\", \"n\", \"d\", \"\"]:\n",
    "            clear_output()\n",
    "            print(\"Collection {} out of {}\".format(collection, 54))\n",
    "            print(\"Index {} out of {}\".format(i, len(df)-1))\n",
    "            display(df[\"numpy_arr\"][i])\n",
    "            \n",
    "            prompt = \"Please enter one of the following:\"\n",
    "            prompt += \"\\n\\t 'y' If the Image contains a person wearing a mask.\"\n",
    "            prompt += \"\\n\\t 'n' If the Image contains a person not wearing a mask.\"\n",
    "            prompt += \"\\n\\t 'd' If the image should be deleted.\"\n",
    "            prompt += \"\\n\\t  Or press  Enter to end the session.\\n\"\n",
    "            \n",
    "            user = input(prompt)\n",
    "        if user.lower() == \"y\":\n",
    "            update_in_MongoDB(df, i, collection, \"Mask\")\n",
    "        elif user.lower() == \"n\":\n",
    "            update_in_MongoDB(df, i, collection, \"No Mask\")\n",
    "        elif user.lower() == \"d\":\n",
    "            delete_from_MongoDB(df, i, collection)\n",
    "        else:\n",
    "            break\n",
    "            \n",
    "        clear_output()\n",
    "        print(\"You entered:\\t\", user)\n",
    "        time.sleep(.5)\n",
    "        clear_output()\n",
    "        \n",
    "    if user == \"\":\n",
    "        break\n",
    "        \n",
    "save_location(c=collection, i=i)\n",
    "print(open_saved_location())\n",
    "# display(load_df(collection))"
   ]
  },
  {
   "cell_type": "markdown",
   "metadata": {},
   "source": [
    "# Helpful for Spelling Errors in Field Names"
   ]
  },
  {
   "cell_type": "code",
   "execution_count": 28,
   "metadata": {},
   "outputs": [],
   "source": [
    "# c = db[\"images_0\"]\n",
    "# c.update_many({}, \n",
    "#              { \"$rename\": { \"hand_labled_target_\": \"hand_labled_target\" } } )"
   ]
  }
 ],
 "metadata": {
  "kernelspec": {
   "display_name": "Python 3",
   "language": "python",
   "name": "python3"
  },
  "language_info": {
   "codemirror_mode": {
    "name": "ipython",
    "version": 3
   },
   "file_extension": ".py",
   "mimetype": "text/x-python",
   "name": "python",
   "nbconvert_exporter": "python",
   "pygments_lexer": "ipython3",
   "version": "3.8.3"
  }
 },
 "nbformat": 4,
 "nbformat_minor": 4
}
