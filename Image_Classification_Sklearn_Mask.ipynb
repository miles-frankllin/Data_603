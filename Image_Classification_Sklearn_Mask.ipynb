{
 "cells": [
  {
   "cell_type": "markdown",
   "metadata": {},
   "source": [
    "# Installs"
   ]
  },
  {
   "cell_type": "code",
   "execution_count": 1,
   "metadata": {
    "scrolled": false
   },
   "outputs": [],
   "source": [
    "# import sys\n",
    "\n",
    "# !pip install --prefix {sys.prefix} tensorflow"
   ]
  },
  {
   "cell_type": "code",
   "execution_count": 2,
   "metadata": {
    "scrolled": true
   },
   "outputs": [],
   "source": [
    "# import sys\n",
    "\n",
    "# !pip install --prefix {sys.prefix} scikit-learn"
   ]
  },
  {
   "cell_type": "code",
   "execution_count": 3,
   "metadata": {},
   "outputs": [],
   "source": [
    "# conda install scikit-image"
   ]
  },
  {
   "cell_type": "markdown",
   "metadata": {},
   "source": [
    "# Imports"
   ]
  },
  {
   "cell_type": "code",
   "execution_count": 61,
   "metadata": {},
   "outputs": [],
   "source": [
    "import pickle\n",
    "from PIL import Image \n",
    "from skimage import io\n",
    "import random\n",
    "import pandas as pd\n",
    "import pymongo\n",
    "from sklearn.model_selection import train_test_split\n",
    "from sklearn.feature_extraction.image import extract_patches_2d\n",
    "from sklearn.model_selection import cross_val_score\n",
    "from sklearn import tree\n",
    "import numpy as np\n",
    "import os\n",
    "\n",
    "import requests\n",
    "from io import BytesIO"
   ]
  },
  {
   "cell_type": "markdown",
   "metadata": {},
   "source": [
    "# Connect to MongoDB"
   ]
  },
  {
   "cell_type": "code",
   "execution_count": 5,
   "metadata": {},
   "outputs": [],
   "source": [
    "user = \"\"\n",
    "pswd = \"\""
   ]
  },
  {
   "cell_type": "markdown",
   "metadata": {},
   "source": [
    "## Personal Account"
   ]
  },
  {
   "cell_type": "code",
   "execution_count": 6,
   "metadata": {},
   "outputs": [],
   "source": [
    "# client = pymongo.MongoClient(\"mongodb+srv://{}:{}@cluster0.ihx5p.mongodb.net/<dbname>?retryWrites=true&w=majority\".format(user, pswd))\n",
    "# db = client[\"DATA_603\"]\n",
    "# collection = db[\"test_images\"]"
   ]
  },
  {
   "cell_type": "markdown",
   "metadata": {},
   "source": [
    "## School Account"
   ]
  },
  {
   "cell_type": "code",
   "execution_count": 7,
   "metadata": {},
   "outputs": [],
   "source": [
    "client = pymongo.MongoClient(\"mongodb+srv://{}:{}@cluster0.x6cn9.mongodb.net/DATA_603?retryWrites=true&w=majority\".format(user, pswd))\n",
    "db = client[\"DATA_603\"]\n",
    "# collection = db[\"images\"]"
   ]
  },
  {
   "cell_type": "markdown",
   "metadata": {},
   "source": [
    "# Reading in data from school MongoDB Account"
   ]
  },
  {
   "cell_type": "code",
   "execution_count": 8,
   "metadata": {
    "scrolled": true
   },
   "outputs": [
    {
     "name": "stdout",
     "output_type": "stream",
     "text": [
      "0%... 10%... 20%... 30%... 40%... 50%... 60%... 70%... 80%... 90%... Finished Loading\n"
     ]
    },
    {
     "data": {
      "text/html": [
       "<div>\n",
       "<style scoped>\n",
       "    .dataframe tbody tr th:only-of-type {\n",
       "        vertical-align: middle;\n",
       "    }\n",
       "\n",
       "    .dataframe tbody tr th {\n",
       "        vertical-align: top;\n",
       "    }\n",
       "\n",
       "    .dataframe thead th {\n",
       "        text-align: right;\n",
       "    }\n",
       "</style>\n",
       "<table border=\"1\" class=\"dataframe\">\n",
       "  <thead>\n",
       "    <tr style=\"text-align: right;\">\n",
       "      <th></th>\n",
       "      <th>_id</th>\n",
       "      <th>source_url</th>\n",
       "      <th>numpy_arr</th>\n",
       "      <th>target</th>\n",
       "      <th>hand_labled_target</th>\n",
       "    </tr>\n",
       "  </thead>\n",
       "  <tbody>\n",
       "    <tr>\n",
       "      <th>0</th>\n",
       "      <td>Extra_0</td>\n",
       "      <td>https://image.shutterstock.com/image-photo/smi...</td>\n",
       "      <td>&lt;PIL.Image.Image image mode=RGB size=150x150 a...</td>\n",
       "      <td>No Mask</td>\n",
       "      <td>No Mask</td>\n",
       "    </tr>\n",
       "    <tr>\n",
       "      <th>1</th>\n",
       "      <td>Extra_1</td>\n",
       "      <td>https://image.shutterstock.com/image-photo/you...</td>\n",
       "      <td>&lt;PIL.Image.Image image mode=RGB size=150x150 a...</td>\n",
       "      <td>No Mask</td>\n",
       "      <td>No Mask</td>\n",
       "    </tr>\n",
       "    <tr>\n",
       "      <th>2</th>\n",
       "      <td>Extra_2</td>\n",
       "      <td>https://image.shutterstock.com/image-photo/smi...</td>\n",
       "      <td>&lt;PIL.Image.Image image mode=RGB size=150x150 a...</td>\n",
       "      <td>No Mask</td>\n",
       "      <td>No Mask</td>\n",
       "    </tr>\n",
       "    <tr>\n",
       "      <th>3</th>\n",
       "      <td>Extra_3</td>\n",
       "      <td>https://image.shutterstock.com/image-photo/mus...</td>\n",
       "      <td>&lt;PIL.Image.Image image mode=RGB size=150x150 a...</td>\n",
       "      <td>No Mask</td>\n",
       "      <td>No Mask</td>\n",
       "    </tr>\n",
       "    <tr>\n",
       "      <th>4</th>\n",
       "      <td>Extra_4</td>\n",
       "      <td>https://image.shutterstock.com/image-photo/fin...</td>\n",
       "      <td>&lt;PIL.Image.Image image mode=RGB size=150x150 a...</td>\n",
       "      <td>No Mask</td>\n",
       "      <td>No Mask</td>\n",
       "    </tr>\n",
       "    <tr>\n",
       "      <th>...</th>\n",
       "      <td>...</td>\n",
       "      <td>...</td>\n",
       "      <td>...</td>\n",
       "      <td>...</td>\n",
       "      <td>...</td>\n",
       "    </tr>\n",
       "    <tr>\n",
       "      <th>2222</th>\n",
       "      <td>No_Mask_1095</td>\n",
       "      <td>https://image.shutterstock.com/image-photo/sup...</td>\n",
       "      <td>&lt;PIL.Image.Image image mode=RGB size=150x150 a...</td>\n",
       "      <td>No Mask</td>\n",
       "      <td>NaN</td>\n",
       "    </tr>\n",
       "    <tr>\n",
       "      <th>2223</th>\n",
       "      <td>No_Mask_1096</td>\n",
       "      <td>https://image.shutterstock.com/image-photo/sup...</td>\n",
       "      <td>&lt;PIL.Image.Image image mode=RGB size=150x150 a...</td>\n",
       "      <td>No Mask</td>\n",
       "      <td>NaN</td>\n",
       "    </tr>\n",
       "    <tr>\n",
       "      <th>2224</th>\n",
       "      <td>No_Mask_1097</td>\n",
       "      <td>https://image.shutterstock.com/image-photo/sup...</td>\n",
       "      <td>&lt;PIL.Image.Image image mode=RGB size=150x150 a...</td>\n",
       "      <td>No Mask</td>\n",
       "      <td>NaN</td>\n",
       "    </tr>\n",
       "    <tr>\n",
       "      <th>2225</th>\n",
       "      <td>No_Mask_1098</td>\n",
       "      <td>https://image.shutterstock.com/image-photo/clu...</td>\n",
       "      <td>&lt;PIL.Image.Image image mode=RGB size=150x150 a...</td>\n",
       "      <td>No Mask</td>\n",
       "      <td>NaN</td>\n",
       "    </tr>\n",
       "    <tr>\n",
       "      <th>2226</th>\n",
       "      <td>No_Mask_1099</td>\n",
       "      <td>https://image.shutterstock.com/image-photo/she...</td>\n",
       "      <td>&lt;PIL.Image.Image image mode=RGB size=150x150 a...</td>\n",
       "      <td>No Mask</td>\n",
       "      <td>NaN</td>\n",
       "    </tr>\n",
       "  </tbody>\n",
       "</table>\n",
       "<p>2227 rows × 5 columns</p>\n",
       "</div>"
      ],
      "text/plain": [
       "               _id                                         source_url  \\\n",
       "0          Extra_0  https://image.shutterstock.com/image-photo/smi...   \n",
       "1          Extra_1  https://image.shutterstock.com/image-photo/you...   \n",
       "2          Extra_2  https://image.shutterstock.com/image-photo/smi...   \n",
       "3          Extra_3  https://image.shutterstock.com/image-photo/mus...   \n",
       "4          Extra_4  https://image.shutterstock.com/image-photo/fin...   \n",
       "...            ...                                                ...   \n",
       "2222  No_Mask_1095  https://image.shutterstock.com/image-photo/sup...   \n",
       "2223  No_Mask_1096  https://image.shutterstock.com/image-photo/sup...   \n",
       "2224  No_Mask_1097  https://image.shutterstock.com/image-photo/sup...   \n",
       "2225  No_Mask_1098  https://image.shutterstock.com/image-photo/clu...   \n",
       "2226  No_Mask_1099  https://image.shutterstock.com/image-photo/she...   \n",
       "\n",
       "                                              numpy_arr   target  \\\n",
       "0     <PIL.Image.Image image mode=RGB size=150x150 a...  No Mask   \n",
       "1     <PIL.Image.Image image mode=RGB size=150x150 a...  No Mask   \n",
       "2     <PIL.Image.Image image mode=RGB size=150x150 a...  No Mask   \n",
       "3     <PIL.Image.Image image mode=RGB size=150x150 a...  No Mask   \n",
       "4     <PIL.Image.Image image mode=RGB size=150x150 a...  No Mask   \n",
       "...                                                 ...      ...   \n",
       "2222  <PIL.Image.Image image mode=RGB size=150x150 a...  No Mask   \n",
       "2223  <PIL.Image.Image image mode=RGB size=150x150 a...  No Mask   \n",
       "2224  <PIL.Image.Image image mode=RGB size=150x150 a...  No Mask   \n",
       "2225  <PIL.Image.Image image mode=RGB size=150x150 a...  No Mask   \n",
       "2226  <PIL.Image.Image image mode=RGB size=150x150 a...  No Mask   \n",
       "\n",
       "     hand_labled_target  \n",
       "0               No Mask  \n",
       "1               No Mask  \n",
       "2               No Mask  \n",
       "3               No Mask  \n",
       "4               No Mask  \n",
       "...                 ...  \n",
       "2222                NaN  \n",
       "2223                NaN  \n",
       "2224                NaN  \n",
       "2225                NaN  \n",
       "2226                NaN  \n",
       "\n",
       "[2227 rows x 5 columns]"
      ]
     },
     "metadata": {},
     "output_type": "display_data"
    }
   ],
   "source": [
    "arr = []\n",
    "for i in range(56):\n",
    "    try:\n",
    "        temp = pd.DataFrame(db[\"images_{}\".format(i)].find({}))\n",
    "        temp[\"numpy_arr\"] = temp[\"numpy_arr\"].apply(lambda x: pickle.loads(x))\n",
    "        temp[\"numpy_arr\"] = temp[\"numpy_arr\"].apply(lambda x: Image.fromarray(x, 'RGB'))    \n",
    "        arr.append(temp)\n",
    "    except:\n",
    "        # display(temp)\n",
    "        continue\n",
    "        \n",
    "    if i % 5 == 0 and i < 50:\n",
    "        print(\"{}%\".format(2*i), end =\"... \")\n",
    "    if i == 50:\n",
    "        print(\"Finished Loading\")\n",
    "        \n",
    "        \n",
    "df_all = pd.concat(arr, ignore_index=True)\n",
    "display(df_all)    "
   ]
  },
  {
   "cell_type": "code",
   "execution_count": 9,
   "metadata": {},
   "outputs": [],
   "source": [
    "df = df_all[df_all[\"hand_labled_target\"].notna()]"
   ]
  },
  {
   "cell_type": "markdown",
   "metadata": {},
   "source": [
    "# Resizing Options\n",
    "https://www.geeksforgeeks.org/python-pil-image-crop-method/"
   ]
  },
  {
   "cell_type": "code",
   "execution_count": 10,
   "metadata": {},
   "outputs": [],
   "source": [
    "# Reduce data\n",
    "# h = (8/10)*h_old = (4/5)*h_old\n",
    "# w = (8/10)*w_old = (4/5)*h_old\n",
    "# a = (16/25)*a_old = .64*a_old = (1 - .36)*a_old\n",
    "def my_crop(x):       \n",
    "    w, h = x.size \n",
    "    h2 = int(h*.9)\n",
    "\n",
    "    left = (1/2)*(w - h2)\n",
    "    top = 0\n",
    "    right = w - (1/2)*(w - h2)\n",
    "    bottom = h2\n",
    "\n",
    "    return x.crop((left, top, right, bottom))\n",
    "\n",
    "# df[\"numpy_arr\"] = df[\"numpy_arr\"].apply(lambda x: my_crop(x))"
   ]
  },
  {
   "cell_type": "markdown",
   "metadata": {},
   "source": [
    "# Rerformat Images (Crop, grayscale, fixed size)\n",
    "Ref: https://machinelearningmastery.com/how-to-load-and-manipulate-images-for-deep-learning-in-python-with-pil-pillow/\n",
    "\n",
    "https://scikit-learn.org/0.15/auto_examples/cluster/plot_dict_face_patches.html"
   ]
  },
  {
   "cell_type": "code",
   "execution_count": 11,
   "metadata": {},
   "outputs": [
    {
     "name": "stdout",
     "output_type": "stream",
     "text": [
      "            H       W\n",
      "count  1242.0  1242.0\n",
      "mean    150.0   150.0\n",
      "std       0.0     0.0\n",
      "min     150.0   150.0\n",
      "25%     150.0   150.0\n",
      "50%     150.0   150.0\n",
      "75%     150.0   150.0\n",
      "max     150.0   150.0\n"
     ]
    },
    {
     "data": {
      "text/plain": [
       "(150, 150)"
      ]
     },
     "execution_count": 11,
     "metadata": {},
     "output_type": "execute_result"
    }
   ],
   "source": [
    "temp = pd.DataFrame()\n",
    "\n",
    "temp[\"H\"] = df[\"numpy_arr\"].apply(lambda x: x.size[0])\n",
    "temp[\"W\"] = df[\"numpy_arr\"].apply(lambda x: x.size[1])\n",
    "\n",
    "print(temp.describe())\n",
    "size = round(temp[\"H\"].mean()), temp[\"W\"].mean()\n",
    "size = int(size[0]), int(size[1])\n",
    "size"
   ]
  },
  {
   "cell_type": "markdown",
   "metadata": {},
   "source": [
    "# Note, Incomming images will have to be reshaped to the same size"
   ]
  },
  {
   "cell_type": "code",
   "execution_count": 12,
   "metadata": {},
   "outputs": [
    {
     "name": "stderr",
     "output_type": "stream",
     "text": [
      "<ipython-input-12-15234eaac0e6>:2: SettingWithCopyWarning: \n",
      "A value is trying to be set on a copy of a slice from a DataFrame.\n",
      "Try using .loc[row_indexer,col_indexer] = value instead\n",
      "\n",
      "See the caveats in the documentation: https://pandas.pydata.org/pandas-docs/stable/user_guide/indexing.html#returning-a-view-versus-a-copy\n",
      "  df[\"numpy_arr\"] = df[\"numpy_arr\"].apply(lambda x: x.convert(mode='L'))\n",
      "<ipython-input-12-15234eaac0e6>:4: SettingWithCopyWarning: \n",
      "A value is trying to be set on a copy of a slice from a DataFrame.\n",
      "Try using .loc[row_indexer,col_indexer] = value instead\n",
      "\n",
      "See the caveats in the documentation: https://pandas.pydata.org/pandas-docs/stable/user_guide/indexing.html#returning-a-view-versus-a-copy\n",
      "  df[\"numpy_arr\"] = df[\"numpy_arr\"].apply(lambda x: x.resize(size))\n"
     ]
    }
   ],
   "source": [
    "# Convert the image to grayscale\n",
    "df[\"numpy_arr\"] = df[\"numpy_arr\"].apply(lambda x: x.convert(mode='L'))\n",
    "# Resize Image\n",
    "df[\"numpy_arr\"] = df[\"numpy_arr\"].apply(lambda x: x.resize(size))\n",
    "# df[\"numpy_arr\"] = df[\"numpy_arr\"].apply(lambda x: x.resize((64,64))) # Currently looses too much information"
   ]
  },
  {
   "cell_type": "markdown",
   "metadata": {},
   "source": [
    "# Flatten numpy arr and transform into columns"
   ]
  },
  {
   "cell_type": "code",
   "execution_count": 13,
   "metadata": {},
   "outputs": [
    {
     "name": "stderr",
     "output_type": "stream",
     "text": [
      "<ipython-input-13-31c5b545c0c5>:2: SettingWithCopyWarning: \n",
      "A value is trying to be set on a copy of a slice from a DataFrame.\n",
      "Try using .loc[row_indexer,col_indexer] = value instead\n",
      "\n",
      "See the caveats in the documentation: https://pandas.pydata.org/pandas-docs/stable/user_guide/indexing.html#returning-a-view-versus-a-copy\n",
      "  df[\"numpy_arr\"] = df[\"numpy_arr\"].apply(lambda x: np.array(x))\n",
      "<ipython-input-13-31c5b545c0c5>:4: SettingWithCopyWarning: \n",
      "A value is trying to be set on a copy of a slice from a DataFrame.\n",
      "Try using .loc[row_indexer,col_indexer] = value instead\n",
      "\n",
      "See the caveats in the documentation: https://pandas.pydata.org/pandas-docs/stable/user_guide/indexing.html#returning-a-view-versus-a-copy\n",
      "  df[\"numpy_arr\"] = df[\"numpy_arr\"].apply(lambda x: x.flatten(\"F\"))\n"
     ]
    }
   ],
   "source": [
    "# Flatten Numpy Arr - cant convert into PIL Image\n",
    "df[\"numpy_arr\"] = df[\"numpy_arr\"].apply(lambda x: np.array(x))\n",
    "\n",
    "df[\"numpy_arr\"] = df[\"numpy_arr\"].apply(lambda x: x.flatten(\"F\"))\n",
    "# temp = df[\"numpy_arr\"][0].reshape((334,280)).T # To undo \n",
    "\n",
    "# df[\"numpy_arr\"] = df[\"numpy_arr\"].apply(lambda x: x.flatten())\n",
    "# temp = df[\"numpy_arr\"][0].reshape((280,334)) # To undo\n",
    "# Image.fromarray(temp)"
   ]
  },
  {
   "cell_type": "markdown",
   "metadata": {},
   "source": [
    "# Model doesn't do too bad on a binary classification"
   ]
  },
  {
   "cell_type": "code",
   "execution_count": 14,
   "metadata": {},
   "outputs": [],
   "source": [
    "temp = df.copy()\n",
    "# temp = temp[(temp[\"race\"]==\"African American\") | (temp[\"race\"]==\"Native Hawaiian\")]\n",
    "\n",
    "X = pd.DataFrame(np.row_stack(temp.numpy_arr))\n",
    "Y = np.array(temp.hand_labled_target)\n",
    "\n",
    "X_train, X_test, Y_train, Y_test = train_test_split(X,\n",
    "                                                    Y,\n",
    "                                                    test_size=0.1,\n",
    "                                                    shuffle=True,\n",
    "                                                    random_state=2020)"
   ]
  },
  {
   "cell_type": "code",
   "execution_count": 15,
   "metadata": {
    "scrolled": true
   },
   "outputs": [
    {
     "name": "stdout",
     "output_type": "stream",
     "text": [
      "CPU times: user 27 s, sys: 487 ms, total: 27.5 s\n",
      "Wall time: 31.8 s\n",
      "Training data: 1.0\n",
      "Testing data:  0.68\n",
      "\n",
      "Max Depth:      16\n",
      "Max Num Leaves: 105\n",
      "\n",
      "df.shape:       (1242, 5)\n",
      "X.shape:        (1242, 22500)\n"
     ]
    }
   ],
   "source": [
    "model = tree.DecisionTreeClassifier(random_state=2020)\n",
    "%time model = model.fit(X_train, Y_train)\n",
    "\n",
    "print(\"Training data:\", model.score(X_train, Y_train))\n",
    "print(\"Testing data: \", model.score(X_test, Y_test))\n",
    "print()\n",
    "print(\"Max Depth:     \", model.get_depth())\n",
    "print(\"Max Num Leaves:\", model.get_n_leaves())\n",
    "print()\n",
    "print(\"df.shape:      \", df.shape)\n",
    "print(\"X.shape:       \", X.shape)"
   ]
  },
  {
   "cell_type": "markdown",
   "metadata": {},
   "source": [
    "# Grid Searching for best parameters"
   ]
  },
  {
   "cell_type": "code",
   "execution_count": 16,
   "metadata": {},
   "outputs": [
    {
     "name": "stdout",
     "output_type": "stream",
     "text": [
      "CPU times: user 86 µs, sys: 175 µs, total: 261 µs\n",
      "Wall time: 266 µs\n",
      "CPU times: user 34min 37s, sys: 31.3 s, total: 35min 8s\n",
      "Wall time: 41min 8s\n"
     ]
    },
    {
     "data": {
      "text/plain": [
       "GridSearchCV(cv=5, estimator=DecisionTreeClassifier(random_state=2020),\n",
       "             param_grid={'criterion': ('gini', 'entropy'),\n",
       "                         'max_depth': range(10, 20)})"
      ]
     },
     "execution_count": 16,
     "metadata": {},
     "output_type": "execute_result"
    }
   ],
   "source": [
    "from sklearn.model_selection import GridSearchCV\n",
    "\n",
    "parameters = {\"criterion\": (\"gini\", \"entropy\"), \n",
    "              \"max_depth\": range(10,20)}\n",
    "\n",
    "model = tree.DecisionTreeClassifier(random_state=2020)\n",
    "%time gcv = GridSearchCV(model, parameters, cv=5)\n",
    "%time gcv.fit(X_train, Y_train)"
   ]
  },
  {
   "cell_type": "code",
   "execution_count": 59,
   "metadata": {},
   "outputs": [
    {
     "data": {
      "text/html": [
       "<div>\n",
       "<style scoped>\n",
       "    .dataframe tbody tr th:only-of-type {\n",
       "        vertical-align: middle;\n",
       "    }\n",
       "\n",
       "    .dataframe tbody tr th {\n",
       "        vertical-align: top;\n",
       "    }\n",
       "\n",
       "    .dataframe thead th {\n",
       "        text-align: right;\n",
       "    }\n",
       "</style>\n",
       "<table border=\"1\" class=\"dataframe\">\n",
       "  <thead>\n",
       "    <tr style=\"text-align: right;\">\n",
       "      <th></th>\n",
       "      <th>10</th>\n",
       "      <th>15</th>\n",
       "      <th>1</th>\n",
       "      <th>0</th>\n",
       "      <th>11</th>\n",
       "      <th>19</th>\n",
       "      <th>12</th>\n",
       "      <th>16</th>\n",
       "      <th>18</th>\n",
       "      <th>13</th>\n",
       "      <th>17</th>\n",
       "      <th>4</th>\n",
       "      <th>5</th>\n",
       "      <th>2</th>\n",
       "      <th>6</th>\n",
       "      <th>8</th>\n",
       "      <th>7</th>\n",
       "      <th>3</th>\n",
       "      <th>14</th>\n",
       "      <th>9</th>\n",
       "    </tr>\n",
       "  </thead>\n",
       "  <tbody>\n",
       "    <tr>\n",
       "      <th>mean_fit_time</th>\n",
       "      <td>21.1811</td>\n",
       "      <td>27.4655</td>\n",
       "      <td>24.6259</td>\n",
       "      <td>28.7671</td>\n",
       "      <td>20.4722</td>\n",
       "      <td>19.8948</td>\n",
       "      <td>22.3354</td>\n",
       "      <td>22.1213</td>\n",
       "      <td>23.2855</td>\n",
       "      <td>23.9835</td>\n",
       "      <td>24.9704</td>\n",
       "      <td>24.5242</td>\n",
       "      <td>26.9133</td>\n",
       "      <td>22.6808</td>\n",
       "      <td>26.9714</td>\n",
       "      <td>23.6961</td>\n",
       "      <td>28.4565</td>\n",
       "      <td>24.3812</td>\n",
       "      <td>23.9869</td>\n",
       "      <td>23.8146</td>\n",
       "    </tr>\n",
       "    <tr>\n",
       "      <th>std_fit_time</th>\n",
       "      <td>0.737667</td>\n",
       "      <td>7.44193</td>\n",
       "      <td>1.66828</td>\n",
       "      <td>5.17201</td>\n",
       "      <td>1.07699</td>\n",
       "      <td>0.935068</td>\n",
       "      <td>2.25816</td>\n",
       "      <td>1.66408</td>\n",
       "      <td>3.69525</td>\n",
       "      <td>5.13552</td>\n",
       "      <td>2.20108</td>\n",
       "      <td>2.19781</td>\n",
       "      <td>1.54124</td>\n",
       "      <td>0.795338</td>\n",
       "      <td>1.34958</td>\n",
       "      <td>1.85518</td>\n",
       "      <td>2.69848</td>\n",
       "      <td>0.925012</td>\n",
       "      <td>3.27144</td>\n",
       "      <td>1.79325</td>\n",
       "    </tr>\n",
       "    <tr>\n",
       "      <th>mean_score_time</th>\n",
       "      <td>0.169349</td>\n",
       "      <td>0.327642</td>\n",
       "      <td>0.252728</td>\n",
       "      <td>0.324759</td>\n",
       "      <td>0.177486</td>\n",
       "      <td>0.154662</td>\n",
       "      <td>0.174789</td>\n",
       "      <td>0.159506</td>\n",
       "      <td>0.175501</td>\n",
       "      <td>0.165607</td>\n",
       "      <td>0.229816</td>\n",
       "      <td>0.169563</td>\n",
       "      <td>0.203238</td>\n",
       "      <td>0.204283</td>\n",
       "      <td>0.235784</td>\n",
       "      <td>0.164809</td>\n",
       "      <td>0.242823</td>\n",
       "      <td>0.195944</td>\n",
       "      <td>0.175652</td>\n",
       "      <td>0.159421</td>\n",
       "    </tr>\n",
       "    <tr>\n",
       "      <th>std_score_time</th>\n",
       "      <td>0.0243109</td>\n",
       "      <td>0.154087</td>\n",
       "      <td>0.0445085</td>\n",
       "      <td>0.117478</td>\n",
       "      <td>0.0181586</td>\n",
       "      <td>0.0063972</td>\n",
       "      <td>0.0306528</td>\n",
       "      <td>0.0061513</td>\n",
       "      <td>0.0330645</td>\n",
       "      <td>0.00563597</td>\n",
       "      <td>0.12038</td>\n",
       "      <td>0.0104522</td>\n",
       "      <td>0.0383797</td>\n",
       "      <td>0.0208099</td>\n",
       "      <td>0.0666031</td>\n",
       "      <td>0.0229597</td>\n",
       "      <td>0.0717211</td>\n",
       "      <td>0.0396648</td>\n",
       "      <td>0.0184638</td>\n",
       "      <td>0.0100641</td>\n",
       "    </tr>\n",
       "    <tr>\n",
       "      <th>param_criterion</th>\n",
       "      <td>entropy</td>\n",
       "      <td>entropy</td>\n",
       "      <td>gini</td>\n",
       "      <td>gini</td>\n",
       "      <td>entropy</td>\n",
       "      <td>entropy</td>\n",
       "      <td>entropy</td>\n",
       "      <td>entropy</td>\n",
       "      <td>entropy</td>\n",
       "      <td>entropy</td>\n",
       "      <td>entropy</td>\n",
       "      <td>gini</td>\n",
       "      <td>gini</td>\n",
       "      <td>gini</td>\n",
       "      <td>gini</td>\n",
       "      <td>gini</td>\n",
       "      <td>gini</td>\n",
       "      <td>gini</td>\n",
       "      <td>entropy</td>\n",
       "      <td>gini</td>\n",
       "    </tr>\n",
       "    <tr>\n",
       "      <th>param_max_depth</th>\n",
       "      <td>10</td>\n",
       "      <td>15</td>\n",
       "      <td>11</td>\n",
       "      <td>10</td>\n",
       "      <td>11</td>\n",
       "      <td>19</td>\n",
       "      <td>12</td>\n",
       "      <td>16</td>\n",
       "      <td>18</td>\n",
       "      <td>13</td>\n",
       "      <td>17</td>\n",
       "      <td>14</td>\n",
       "      <td>15</td>\n",
       "      <td>12</td>\n",
       "      <td>16</td>\n",
       "      <td>18</td>\n",
       "      <td>17</td>\n",
       "      <td>13</td>\n",
       "      <td>14</td>\n",
       "      <td>19</td>\n",
       "    </tr>\n",
       "    <tr>\n",
       "      <th>params</th>\n",
       "      <td>{'criterion': 'entropy', 'max_depth': 10}</td>\n",
       "      <td>{'criterion': 'entropy', 'max_depth': 15}</td>\n",
       "      <td>{'criterion': 'gini', 'max_depth': 11}</td>\n",
       "      <td>{'criterion': 'gini', 'max_depth': 10}</td>\n",
       "      <td>{'criterion': 'entropy', 'max_depth': 11}</td>\n",
       "      <td>{'criterion': 'entropy', 'max_depth': 19}</td>\n",
       "      <td>{'criterion': 'entropy', 'max_depth': 12}</td>\n",
       "      <td>{'criterion': 'entropy', 'max_depth': 16}</td>\n",
       "      <td>{'criterion': 'entropy', 'max_depth': 18}</td>\n",
       "      <td>{'criterion': 'entropy', 'max_depth': 13}</td>\n",
       "      <td>{'criterion': 'entropy', 'max_depth': 17}</td>\n",
       "      <td>{'criterion': 'gini', 'max_depth': 14}</td>\n",
       "      <td>{'criterion': 'gini', 'max_depth': 15}</td>\n",
       "      <td>{'criterion': 'gini', 'max_depth': 12}</td>\n",
       "      <td>{'criterion': 'gini', 'max_depth': 16}</td>\n",
       "      <td>{'criterion': 'gini', 'max_depth': 18}</td>\n",
       "      <td>{'criterion': 'gini', 'max_depth': 17}</td>\n",
       "      <td>{'criterion': 'gini', 'max_depth': 13}</td>\n",
       "      <td>{'criterion': 'entropy', 'max_depth': 14}</td>\n",
       "      <td>{'criterion': 'gini', 'max_depth': 19}</td>\n",
       "    </tr>\n",
       "    <tr>\n",
       "      <th>split0_test_score</th>\n",
       "      <td>0.65625</td>\n",
       "      <td>0.616071</td>\n",
       "      <td>0.598214</td>\n",
       "      <td>0.584821</td>\n",
       "      <td>0.59375</td>\n",
       "      <td>0.616071</td>\n",
       "      <td>0.589286</td>\n",
       "      <td>0.616071</td>\n",
       "      <td>0.616071</td>\n",
       "      <td>0.629464</td>\n",
       "      <td>0.616071</td>\n",
       "      <td>0.59375</td>\n",
       "      <td>0.558036</td>\n",
       "      <td>0.5625</td>\n",
       "      <td>0.549107</td>\n",
       "      <td>0.553571</td>\n",
       "      <td>0.566964</td>\n",
       "      <td>0.549107</td>\n",
       "      <td>0.616071</td>\n",
       "      <td>0.566964</td>\n",
       "    </tr>\n",
       "    <tr>\n",
       "      <th>split1_test_score</th>\n",
       "      <td>0.598214</td>\n",
       "      <td>0.651786</td>\n",
       "      <td>0.620536</td>\n",
       "      <td>0.607143</td>\n",
       "      <td>0.602679</td>\n",
       "      <td>0.647321</td>\n",
       "      <td>0.638393</td>\n",
       "      <td>0.642857</td>\n",
       "      <td>0.647321</td>\n",
       "      <td>0.638393</td>\n",
       "      <td>0.660714</td>\n",
       "      <td>0.598214</td>\n",
       "      <td>0.602679</td>\n",
       "      <td>0.602679</td>\n",
       "      <td>0.611607</td>\n",
       "      <td>0.611607</td>\n",
       "      <td>0.611607</td>\n",
       "      <td>0.584821</td>\n",
       "      <td>0.616071</td>\n",
       "      <td>0.611607</td>\n",
       "    </tr>\n",
       "    <tr>\n",
       "      <th>split2_test_score</th>\n",
       "      <td>0.641256</td>\n",
       "      <td>0.650224</td>\n",
       "      <td>0.663677</td>\n",
       "      <td>0.672646</td>\n",
       "      <td>0.636771</td>\n",
       "      <td>0.623318</td>\n",
       "      <td>0.650224</td>\n",
       "      <td>0.618834</td>\n",
       "      <td>0.61435</td>\n",
       "      <td>0.600897</td>\n",
       "      <td>0.578475</td>\n",
       "      <td>0.668161</td>\n",
       "      <td>0.668161</td>\n",
       "      <td>0.663677</td>\n",
       "      <td>0.650224</td>\n",
       "      <td>0.654709</td>\n",
       "      <td>0.627803</td>\n",
       "      <td>0.650224</td>\n",
       "      <td>0.569507</td>\n",
       "      <td>0.618834</td>\n",
       "    </tr>\n",
       "    <tr>\n",
       "      <th>split3_test_score</th>\n",
       "      <td>0.605381</td>\n",
       "      <td>0.578475</td>\n",
       "      <td>0.618834</td>\n",
       "      <td>0.618834</td>\n",
       "      <td>0.591928</td>\n",
       "      <td>0.578475</td>\n",
       "      <td>0.556054</td>\n",
       "      <td>0.578475</td>\n",
       "      <td>0.578475</td>\n",
       "      <td>0.58296</td>\n",
       "      <td>0.578475</td>\n",
       "      <td>0.58296</td>\n",
       "      <td>0.596413</td>\n",
       "      <td>0.600897</td>\n",
       "      <td>0.596413</td>\n",
       "      <td>0.596413</td>\n",
       "      <td>0.596413</td>\n",
       "      <td>0.61435</td>\n",
       "      <td>0.565022</td>\n",
       "      <td>0.596413</td>\n",
       "    </tr>\n",
       "    <tr>\n",
       "      <th>split4_test_score</th>\n",
       "      <td>0.686099</td>\n",
       "      <td>0.659193</td>\n",
       "      <td>0.64574</td>\n",
       "      <td>0.650224</td>\n",
       "      <td>0.699552</td>\n",
       "      <td>0.659193</td>\n",
       "      <td>0.681614</td>\n",
       "      <td>0.659193</td>\n",
       "      <td>0.659193</td>\n",
       "      <td>0.659193</td>\n",
       "      <td>0.659193</td>\n",
       "      <td>0.636771</td>\n",
       "      <td>0.641256</td>\n",
       "      <td>0.632287</td>\n",
       "      <td>0.641256</td>\n",
       "      <td>0.627803</td>\n",
       "      <td>0.641256</td>\n",
       "      <td>0.632287</td>\n",
       "      <td>0.659193</td>\n",
       "      <td>0.61435</td>\n",
       "    </tr>\n",
       "    <tr>\n",
       "      <th>mean_test_score</th>\n",
       "      <td>0.63744</td>\n",
       "      <td>0.63115</td>\n",
       "      <td>0.6294</td>\n",
       "      <td>0.626734</td>\n",
       "      <td>0.624936</td>\n",
       "      <td>0.624876</td>\n",
       "      <td>0.623114</td>\n",
       "      <td>0.623086</td>\n",
       "      <td>0.623082</td>\n",
       "      <td>0.622181</td>\n",
       "      <td>0.618586</td>\n",
       "      <td>0.615971</td>\n",
       "      <td>0.613309</td>\n",
       "      <td>0.612408</td>\n",
       "      <td>0.609721</td>\n",
       "      <td>0.60882</td>\n",
       "      <td>0.608808</td>\n",
       "      <td>0.606158</td>\n",
       "      <td>0.605173</td>\n",
       "      <td>0.601634</td>\n",
       "    </tr>\n",
       "    <tr>\n",
       "      <th>std_test_score</th>\n",
       "      <td>0.0325652</td>\n",
       "      <td>0.030259</td>\n",
       "      <td>0.022824</td>\n",
       "      <td>0.0311851</td>\n",
       "      <td>0.0406572</td>\n",
       "      <td>0.02798</td>\n",
       "      <td>0.0447931</td>\n",
       "      <td>0.0273934</td>\n",
       "      <td>0.0283079</td>\n",
       "      <td>0.0271185</td>\n",
       "      <td>0.036463</td>\n",
       "      <td>0.0317972</td>\n",
       "      <td>0.0380616</td>\n",
       "      <td>0.0338871</td>\n",
       "      <td>0.0360268</td>\n",
       "      <td>0.0337052</td>\n",
       "      <td>0.0257916</td>\n",
       "      <td>0.0357819</td>\n",
       "      <td>0.0347558</td>\n",
       "      <td>0.0189011</td>\n",
       "    </tr>\n",
       "    <tr>\n",
       "      <th>rank_test_score</th>\n",
       "      <td>1</td>\n",
       "      <td>2</td>\n",
       "      <td>3</td>\n",
       "      <td>4</td>\n",
       "      <td>5</td>\n",
       "      <td>6</td>\n",
       "      <td>7</td>\n",
       "      <td>8</td>\n",
       "      <td>9</td>\n",
       "      <td>10</td>\n",
       "      <td>11</td>\n",
       "      <td>12</td>\n",
       "      <td>13</td>\n",
       "      <td>14</td>\n",
       "      <td>15</td>\n",
       "      <td>16</td>\n",
       "      <td>17</td>\n",
       "      <td>18</td>\n",
       "      <td>19</td>\n",
       "      <td>20</td>\n",
       "    </tr>\n",
       "  </tbody>\n",
       "</table>\n",
       "</div>"
      ],
      "text/plain": [
       "                                                          10  \\\n",
       "mean_fit_time                                        21.1811   \n",
       "std_fit_time                                        0.737667   \n",
       "mean_score_time                                     0.169349   \n",
       "std_score_time                                     0.0243109   \n",
       "param_criterion                                      entropy   \n",
       "param_max_depth                                           10   \n",
       "params             {'criterion': 'entropy', 'max_depth': 10}   \n",
       "split0_test_score                                    0.65625   \n",
       "split1_test_score                                   0.598214   \n",
       "split2_test_score                                   0.641256   \n",
       "split3_test_score                                   0.605381   \n",
       "split4_test_score                                   0.686099   \n",
       "mean_test_score                                      0.63744   \n",
       "std_test_score                                     0.0325652   \n",
       "rank_test_score                                            1   \n",
       "\n",
       "                                                          15  \\\n",
       "mean_fit_time                                        27.4655   \n",
       "std_fit_time                                         7.44193   \n",
       "mean_score_time                                     0.327642   \n",
       "std_score_time                                      0.154087   \n",
       "param_criterion                                      entropy   \n",
       "param_max_depth                                           15   \n",
       "params             {'criterion': 'entropy', 'max_depth': 15}   \n",
       "split0_test_score                                   0.616071   \n",
       "split1_test_score                                   0.651786   \n",
       "split2_test_score                                   0.650224   \n",
       "split3_test_score                                   0.578475   \n",
       "split4_test_score                                   0.659193   \n",
       "mean_test_score                                      0.63115   \n",
       "std_test_score                                      0.030259   \n",
       "rank_test_score                                            2   \n",
       "\n",
       "                                                       1   \\\n",
       "mean_fit_time                                     24.6259   \n",
       "std_fit_time                                      1.66828   \n",
       "mean_score_time                                  0.252728   \n",
       "std_score_time                                  0.0445085   \n",
       "param_criterion                                      gini   \n",
       "param_max_depth                                        11   \n",
       "params             {'criterion': 'gini', 'max_depth': 11}   \n",
       "split0_test_score                                0.598214   \n",
       "split1_test_score                                0.620536   \n",
       "split2_test_score                                0.663677   \n",
       "split3_test_score                                0.618834   \n",
       "split4_test_score                                 0.64574   \n",
       "mean_test_score                                    0.6294   \n",
       "std_test_score                                   0.022824   \n",
       "rank_test_score                                         3   \n",
       "\n",
       "                                                       0   \\\n",
       "mean_fit_time                                     28.7671   \n",
       "std_fit_time                                      5.17201   \n",
       "mean_score_time                                  0.324759   \n",
       "std_score_time                                   0.117478   \n",
       "param_criterion                                      gini   \n",
       "param_max_depth                                        10   \n",
       "params             {'criterion': 'gini', 'max_depth': 10}   \n",
       "split0_test_score                                0.584821   \n",
       "split1_test_score                                0.607143   \n",
       "split2_test_score                                0.672646   \n",
       "split3_test_score                                0.618834   \n",
       "split4_test_score                                0.650224   \n",
       "mean_test_score                                  0.626734   \n",
       "std_test_score                                  0.0311851   \n",
       "rank_test_score                                         4   \n",
       "\n",
       "                                                          11  \\\n",
       "mean_fit_time                                        20.4722   \n",
       "std_fit_time                                         1.07699   \n",
       "mean_score_time                                     0.177486   \n",
       "std_score_time                                     0.0181586   \n",
       "param_criterion                                      entropy   \n",
       "param_max_depth                                           11   \n",
       "params             {'criterion': 'entropy', 'max_depth': 11}   \n",
       "split0_test_score                                    0.59375   \n",
       "split1_test_score                                   0.602679   \n",
       "split2_test_score                                   0.636771   \n",
       "split3_test_score                                   0.591928   \n",
       "split4_test_score                                   0.699552   \n",
       "mean_test_score                                     0.624936   \n",
       "std_test_score                                     0.0406572   \n",
       "rank_test_score                                            5   \n",
       "\n",
       "                                                          19  \\\n",
       "mean_fit_time                                        19.8948   \n",
       "std_fit_time                                        0.935068   \n",
       "mean_score_time                                     0.154662   \n",
       "std_score_time                                     0.0063972   \n",
       "param_criterion                                      entropy   \n",
       "param_max_depth                                           19   \n",
       "params             {'criterion': 'entropy', 'max_depth': 19}   \n",
       "split0_test_score                                   0.616071   \n",
       "split1_test_score                                   0.647321   \n",
       "split2_test_score                                   0.623318   \n",
       "split3_test_score                                   0.578475   \n",
       "split4_test_score                                   0.659193   \n",
       "mean_test_score                                     0.624876   \n",
       "std_test_score                                       0.02798   \n",
       "rank_test_score                                            6   \n",
       "\n",
       "                                                          12  \\\n",
       "mean_fit_time                                        22.3354   \n",
       "std_fit_time                                         2.25816   \n",
       "mean_score_time                                     0.174789   \n",
       "std_score_time                                     0.0306528   \n",
       "param_criterion                                      entropy   \n",
       "param_max_depth                                           12   \n",
       "params             {'criterion': 'entropy', 'max_depth': 12}   \n",
       "split0_test_score                                   0.589286   \n",
       "split1_test_score                                   0.638393   \n",
       "split2_test_score                                   0.650224   \n",
       "split3_test_score                                   0.556054   \n",
       "split4_test_score                                   0.681614   \n",
       "mean_test_score                                     0.623114   \n",
       "std_test_score                                     0.0447931   \n",
       "rank_test_score                                            7   \n",
       "\n",
       "                                                          16  \\\n",
       "mean_fit_time                                        22.1213   \n",
       "std_fit_time                                         1.66408   \n",
       "mean_score_time                                     0.159506   \n",
       "std_score_time                                     0.0061513   \n",
       "param_criterion                                      entropy   \n",
       "param_max_depth                                           16   \n",
       "params             {'criterion': 'entropy', 'max_depth': 16}   \n",
       "split0_test_score                                   0.616071   \n",
       "split1_test_score                                   0.642857   \n",
       "split2_test_score                                   0.618834   \n",
       "split3_test_score                                   0.578475   \n",
       "split4_test_score                                   0.659193   \n",
       "mean_test_score                                     0.623086   \n",
       "std_test_score                                     0.0273934   \n",
       "rank_test_score                                            8   \n",
       "\n",
       "                                                          18  \\\n",
       "mean_fit_time                                        23.2855   \n",
       "std_fit_time                                         3.69525   \n",
       "mean_score_time                                     0.175501   \n",
       "std_score_time                                     0.0330645   \n",
       "param_criterion                                      entropy   \n",
       "param_max_depth                                           18   \n",
       "params             {'criterion': 'entropy', 'max_depth': 18}   \n",
       "split0_test_score                                   0.616071   \n",
       "split1_test_score                                   0.647321   \n",
       "split2_test_score                                    0.61435   \n",
       "split3_test_score                                   0.578475   \n",
       "split4_test_score                                   0.659193   \n",
       "mean_test_score                                     0.623082   \n",
       "std_test_score                                     0.0283079   \n",
       "rank_test_score                                            9   \n",
       "\n",
       "                                                          13  \\\n",
       "mean_fit_time                                        23.9835   \n",
       "std_fit_time                                         5.13552   \n",
       "mean_score_time                                     0.165607   \n",
       "std_score_time                                    0.00563597   \n",
       "param_criterion                                      entropy   \n",
       "param_max_depth                                           13   \n",
       "params             {'criterion': 'entropy', 'max_depth': 13}   \n",
       "split0_test_score                                   0.629464   \n",
       "split1_test_score                                   0.638393   \n",
       "split2_test_score                                   0.600897   \n",
       "split3_test_score                                    0.58296   \n",
       "split4_test_score                                   0.659193   \n",
       "mean_test_score                                     0.622181   \n",
       "std_test_score                                     0.0271185   \n",
       "rank_test_score                                           10   \n",
       "\n",
       "                                                          17  \\\n",
       "mean_fit_time                                        24.9704   \n",
       "std_fit_time                                         2.20108   \n",
       "mean_score_time                                     0.229816   \n",
       "std_score_time                                       0.12038   \n",
       "param_criterion                                      entropy   \n",
       "param_max_depth                                           17   \n",
       "params             {'criterion': 'entropy', 'max_depth': 17}   \n",
       "split0_test_score                                   0.616071   \n",
       "split1_test_score                                   0.660714   \n",
       "split2_test_score                                   0.578475   \n",
       "split3_test_score                                   0.578475   \n",
       "split4_test_score                                   0.659193   \n",
       "mean_test_score                                     0.618586   \n",
       "std_test_score                                      0.036463   \n",
       "rank_test_score                                           11   \n",
       "\n",
       "                                                       4   \\\n",
       "mean_fit_time                                     24.5242   \n",
       "std_fit_time                                      2.19781   \n",
       "mean_score_time                                  0.169563   \n",
       "std_score_time                                  0.0104522   \n",
       "param_criterion                                      gini   \n",
       "param_max_depth                                        14   \n",
       "params             {'criterion': 'gini', 'max_depth': 14}   \n",
       "split0_test_score                                 0.59375   \n",
       "split1_test_score                                0.598214   \n",
       "split2_test_score                                0.668161   \n",
       "split3_test_score                                 0.58296   \n",
       "split4_test_score                                0.636771   \n",
       "mean_test_score                                  0.615971   \n",
       "std_test_score                                  0.0317972   \n",
       "rank_test_score                                        12   \n",
       "\n",
       "                                                       5   \\\n",
       "mean_fit_time                                     26.9133   \n",
       "std_fit_time                                      1.54124   \n",
       "mean_score_time                                  0.203238   \n",
       "std_score_time                                  0.0383797   \n",
       "param_criterion                                      gini   \n",
       "param_max_depth                                        15   \n",
       "params             {'criterion': 'gini', 'max_depth': 15}   \n",
       "split0_test_score                                0.558036   \n",
       "split1_test_score                                0.602679   \n",
       "split2_test_score                                0.668161   \n",
       "split3_test_score                                0.596413   \n",
       "split4_test_score                                0.641256   \n",
       "mean_test_score                                  0.613309   \n",
       "std_test_score                                  0.0380616   \n",
       "rank_test_score                                        13   \n",
       "\n",
       "                                                       2   \\\n",
       "mean_fit_time                                     22.6808   \n",
       "std_fit_time                                     0.795338   \n",
       "mean_score_time                                  0.204283   \n",
       "std_score_time                                  0.0208099   \n",
       "param_criterion                                      gini   \n",
       "param_max_depth                                        12   \n",
       "params             {'criterion': 'gini', 'max_depth': 12}   \n",
       "split0_test_score                                  0.5625   \n",
       "split1_test_score                                0.602679   \n",
       "split2_test_score                                0.663677   \n",
       "split3_test_score                                0.600897   \n",
       "split4_test_score                                0.632287   \n",
       "mean_test_score                                  0.612408   \n",
       "std_test_score                                  0.0338871   \n",
       "rank_test_score                                        14   \n",
       "\n",
       "                                                       6   \\\n",
       "mean_fit_time                                     26.9714   \n",
       "std_fit_time                                      1.34958   \n",
       "mean_score_time                                  0.235784   \n",
       "std_score_time                                  0.0666031   \n",
       "param_criterion                                      gini   \n",
       "param_max_depth                                        16   \n",
       "params             {'criterion': 'gini', 'max_depth': 16}   \n",
       "split0_test_score                                0.549107   \n",
       "split1_test_score                                0.611607   \n",
       "split2_test_score                                0.650224   \n",
       "split3_test_score                                0.596413   \n",
       "split4_test_score                                0.641256   \n",
       "mean_test_score                                  0.609721   \n",
       "std_test_score                                  0.0360268   \n",
       "rank_test_score                                        15   \n",
       "\n",
       "                                                       8   \\\n",
       "mean_fit_time                                     23.6961   \n",
       "std_fit_time                                      1.85518   \n",
       "mean_score_time                                  0.164809   \n",
       "std_score_time                                  0.0229597   \n",
       "param_criterion                                      gini   \n",
       "param_max_depth                                        18   \n",
       "params             {'criterion': 'gini', 'max_depth': 18}   \n",
       "split0_test_score                                0.553571   \n",
       "split1_test_score                                0.611607   \n",
       "split2_test_score                                0.654709   \n",
       "split3_test_score                                0.596413   \n",
       "split4_test_score                                0.627803   \n",
       "mean_test_score                                   0.60882   \n",
       "std_test_score                                  0.0337052   \n",
       "rank_test_score                                        16   \n",
       "\n",
       "                                                       7   \\\n",
       "mean_fit_time                                     28.4565   \n",
       "std_fit_time                                      2.69848   \n",
       "mean_score_time                                  0.242823   \n",
       "std_score_time                                  0.0717211   \n",
       "param_criterion                                      gini   \n",
       "param_max_depth                                        17   \n",
       "params             {'criterion': 'gini', 'max_depth': 17}   \n",
       "split0_test_score                                0.566964   \n",
       "split1_test_score                                0.611607   \n",
       "split2_test_score                                0.627803   \n",
       "split3_test_score                                0.596413   \n",
       "split4_test_score                                0.641256   \n",
       "mean_test_score                                  0.608808   \n",
       "std_test_score                                  0.0257916   \n",
       "rank_test_score                                        17   \n",
       "\n",
       "                                                       3   \\\n",
       "mean_fit_time                                     24.3812   \n",
       "std_fit_time                                     0.925012   \n",
       "mean_score_time                                  0.195944   \n",
       "std_score_time                                  0.0396648   \n",
       "param_criterion                                      gini   \n",
       "param_max_depth                                        13   \n",
       "params             {'criterion': 'gini', 'max_depth': 13}   \n",
       "split0_test_score                                0.549107   \n",
       "split1_test_score                                0.584821   \n",
       "split2_test_score                                0.650224   \n",
       "split3_test_score                                 0.61435   \n",
       "split4_test_score                                0.632287   \n",
       "mean_test_score                                  0.606158   \n",
       "std_test_score                                  0.0357819   \n",
       "rank_test_score                                        18   \n",
       "\n",
       "                                                          14  \\\n",
       "mean_fit_time                                        23.9869   \n",
       "std_fit_time                                         3.27144   \n",
       "mean_score_time                                     0.175652   \n",
       "std_score_time                                     0.0184638   \n",
       "param_criterion                                      entropy   \n",
       "param_max_depth                                           14   \n",
       "params             {'criterion': 'entropy', 'max_depth': 14}   \n",
       "split0_test_score                                   0.616071   \n",
       "split1_test_score                                   0.616071   \n",
       "split2_test_score                                   0.569507   \n",
       "split3_test_score                                   0.565022   \n",
       "split4_test_score                                   0.659193   \n",
       "mean_test_score                                     0.605173   \n",
       "std_test_score                                     0.0347558   \n",
       "rank_test_score                                           19   \n",
       "\n",
       "                                                       9   \n",
       "mean_fit_time                                     23.8146  \n",
       "std_fit_time                                      1.79325  \n",
       "mean_score_time                                  0.159421  \n",
       "std_score_time                                  0.0100641  \n",
       "param_criterion                                      gini  \n",
       "param_max_depth                                        19  \n",
       "params             {'criterion': 'gini', 'max_depth': 19}  \n",
       "split0_test_score                                0.566964  \n",
       "split1_test_score                                0.611607  \n",
       "split2_test_score                                0.618834  \n",
       "split3_test_score                                0.596413  \n",
       "split4_test_score                                 0.61435  \n",
       "mean_test_score                                  0.601634  \n",
       "std_test_score                                  0.0189011  \n",
       "rank_test_score                                        20  "
      ]
     },
     "execution_count": 59,
     "metadata": {},
     "output_type": "execute_result"
    }
   ],
   "source": [
    "grid = pd.DataFrame(gcv.cv_results_).sort_values('mean_test_score', ascending=False).T\n",
    "grid"
   ]
  },
  {
   "cell_type": "markdown",
   "metadata": {},
   "source": [
    "# Save Grid"
   ]
  },
  {
   "cell_type": "code",
   "execution_count": 62,
   "metadata": {},
   "outputs": [],
   "source": [
    "grid.to_csv(os.path.join(\"Models\", \"Tree_Model_Mask_vs_No_Mask_Grid_CV.csv\"))"
   ]
  },
  {
   "cell_type": "code",
   "execution_count": 18,
   "metadata": {},
   "outputs": [
    {
     "name": "stdout",
     "output_type": "stream",
     "text": [
      "CPU times: user 22.9 s, sys: 226 ms, total: 23.1 s\n",
      "Wall time: 24.2 s\n",
      "Training data: 0.964189794091316\n",
      "Testing data:  0.624\n",
      "\n",
      "Max Depth:      10\n",
      "Max Num Leaves: 69\n",
      "\n",
      "df.shape:       (1242, 5)\n",
      "X.shape:        (1242, 22500)\n"
     ]
    }
   ],
   "source": [
    "model = tree.DecisionTreeClassifier(random_state=2020,\n",
    "                                   criterion=\"entropy\",\n",
    "                                   max_depth=10)\n",
    "\n",
    "%time model = model.fit(X_train, Y_train)\n",
    "\n",
    "print(\"Training data:\", model.score(X_train, Y_train))\n",
    "print(\"Testing data: \", model.score(X_test, Y_test))\n",
    "print()\n",
    "print(\"Max Depth:     \", model.get_depth())\n",
    "print(\"Max Num Leaves:\", model.get_n_leaves())\n",
    "print()\n",
    "print(\"df.shape:      \", df.shape)\n",
    "print(\"X.shape:       \", X.shape)"
   ]
  },
  {
   "cell_type": "markdown",
   "metadata": {},
   "source": [
    "# Save Model"
   ]
  },
  {
   "cell_type": "code",
   "execution_count": 63,
   "metadata": {},
   "outputs": [
    {
     "data": {
      "text/plain": [
       "['Models/Tree_Model_Mask_vs_No_Mask.joblib']"
      ]
     },
     "execution_count": 63,
     "metadata": {},
     "output_type": "execute_result"
    }
   ],
   "source": [
    "from joblib import dump, load\n",
    "\n",
    "dump(model, os.path.join(\"Models\", \"Tree_Model_Mask_vs_No_Mask.joblib\")) "
   ]
  },
  {
   "cell_type": "markdown",
   "metadata": {},
   "source": [
    "# Useful Displays for Presenting"
   ]
  },
  {
   "cell_type": "code",
   "execution_count": 24,
   "metadata": {
    "scrolled": false
   },
   "outputs": [
    {
     "data": {
      "image/png": "[encoded data removed]",
      "text/plain": [
       "<PIL.Image.Image image mode=L size=150x150 at 0x7FB1FCA234C0>"
      ]
     },
     "metadata": {},
     "output_type": "display_data"
    },
    {
     "name": "stdout",
     "output_type": "stream",
     "text": [
      "Target Label:            Mask\n",
      "Predicted Lablel:        ['Mask']\n",
      "Predicted Probablities:  [[0.7047619 0.2952381]]\n",
      "Corresponding Labels:    ['Mask', 'No Mask']\n"
     ]
    }
   ],
   "source": [
    "for index in range(len(X_test)):\n",
    "    #print(index), print(row)\n",
    "    temp = X_test.iloc[index]\n",
    "    temp = np.array(temp)\n",
    "\n",
    "    img = temp.reshape(size).T \n",
    "    sample = temp.reshape(1, -1)\n",
    "\n",
    "    display(Image.fromarray(img))\n",
    "\n",
    "    print(\"Target Label:           \", Y_test[index])\n",
    "    print(\"Predicted Lablel:       \", model.predict(sample))\n",
    "    print(\"Predicted Probablities: \", model.predict_proba(sample))\n",
    "    print(\"Corresponding Labels:   \", list(model.classes_))\n",
    "    \n",
    "    break"
   ]
  },
  {
   "cell_type": "code",
   "execution_count": 20,
   "metadata": {
    "scrolled": true
   },
   "outputs": [
    {
     "name": "stdout",
     "output_type": "stream",
     "text": [
      "0 Mask\n"
     ]
    }
   ],
   "source": [
    "for i in range(len(Y_test)):\n",
    "    print(i, Y_test[i])\n",
    "    break"
   ]
  },
  {
   "cell_type": "markdown",
   "metadata": {},
   "source": [
    "# Confusion Matrix"
   ]
  },
  {
   "cell_type": "code",
   "execution_count": 66,
   "metadata": {
    "scrolled": true
   },
   "outputs": [
    {
     "data": {
      "text/plain": [
       "array([[64, 18],\n",
       "       [29, 14]])"
      ]
     },
     "execution_count": 66,
     "metadata": {},
     "output_type": "execute_result"
    }
   ],
   "source": [
    "from sklearn.metrics import confusion_matrix\n",
    "import seaborn as sns\n",
    "\n",
    "y_true = np.array(Y_test)\n",
    "y_pred = np.array(model.predict(X_test))\n",
    "cm = confusion_matrix(y_true, y_pred, labels=[\"Mask\", \"No Mask\"])\n",
    "\n",
    "cm"
   ]
  },
  {
   "cell_type": "code",
   "execution_count": 67,
   "metadata": {},
   "outputs": [
    {
     "data": {
      "text/plain": [
       "<matplotlib.axes._subplots.AxesSubplot at 0x7fb1e81e2ac0>"
      ]
     },
     "execution_count": 67,
     "metadata": {},
     "output_type": "execute_result"
    },
    {
     "data": {
      "image/png": "[encoded data removed]",
      "text/plain": [
       "<Figure size 432x288 with 2 Axes>"
      ]
     },
     "metadata": {
      "needs_background": "light"
     },
     "output_type": "display_data"
    }
   ],
   "source": [
    "labels = [[\"True\\nMask\\n{}\\n{}%\".format( cm[0][0], round(cm[0][0]/cm[0].sum(), 2)) ,\n",
    "           \"False\\nNo Mask\\n{}\\n{}%\".format(   cm[0][1], round(cm[0][1]/cm[0].sum(), 2))],\n",
    "          [\"False\\nMask\\n{}\\n{}%\".format(cm[1][0], round(cm[1][0]/cm[1].sum(), 2)), \n",
    "           \"True\\nNo Mask\\n{}\\n{}%\".format(    cm[1][1], round(cm[1][1]/cm[1].sum(), 2))]]\n",
    "sns.heatmap(cm, annot=labels, fmt=\"\", cmap=\"Blues\")"
   ]
  },
  {
   "cell_type": "code",
   "execution_count": 65,
   "metadata": {},
   "outputs": [
    {
     "data": {
      "text/plain": [
       "(array([0.68817204, 0.4375    ]),\n",
       " array([0.7804878, 0.3255814]),\n",
       " array([0.73142857, 0.37333333]),\n",
       " array([82, 43]))"
      ]
     },
     "execution_count": 65,
     "metadata": {},
     "output_type": "execute_result"
    }
   ],
   "source": [
    "from sklearn.metrics import precision_recall_fscore_support\n",
    "\n",
    "precision_recall_fscore_support(y_true, y_pred)"
   ]
  },
  {
   "cell_type": "code",
   "execution_count": 56,
   "metadata": {},
   "outputs": [
    {
     "data": {
      "text/plain": [
       "<matplotlib.axes._subplots.AxesSubplot at 0x7fb1e7f4e850>"
      ]
     },
     "execution_count": 56,
     "metadata": {},
     "output_type": "execute_result"
    },
    {
     "data": {
      "image/png": "[encoded data removed]",
      "text/plain": [
       "<Figure size 432x288 with 1 Axes>"
      ]
     },
     "metadata": {
      "needs_background": "light"
     },
     "output_type": "display_data"
    }
   ],
   "source": [
    "df[\"hand_labled_target\"].value_counts().plot(kind=\"bar\")"
   ]
  },
  {
   "cell_type": "markdown",
   "metadata": {},
   "source": [
    "# Exploring Different ways to store image data"
   ]
  },
  {
   "cell_type": "code",
   "execution_count": 21,
   "metadata": {},
   "outputs": [
    {
     "name": "stdout",
     "output_type": "stream",
     "text": [
      "(391, 280)\n"
     ]
    },
    {
     "data": {
      "image/png": "[encoded data removed]",
      "text/plain": [
       "<PIL.JpegImagePlugin.JpegImageFile image mode=RGB size=391x280 at 0x7FB1FC2D96D0>"
      ]
     },
     "metadata": {},
     "output_type": "display_data"
    },
    {
     "name": "stdout",
     "output_type": "stream",
     "text": [
      "(391, 280)\n"
     ]
    },
    {
     "data": {
      "image/png": "[encoded data removed]",
      "text/plain": [
       "<PIL.Image.Image image mode=1 size=391x280 at 0x7FB1FC2EE3A0>"
      ]
     },
     "metadata": {},
     "output_type": "display_data"
    },
    {
     "name": "stdout",
     "output_type": "stream",
     "text": [
      "(252, 252)\n"
     ]
    },
    {
     "data": {
      "image/png": "[encoded data removed]",
      "text/plain": [
       "<PIL.Image.Image image mode=1 size=252x252 at 0x7FB1FC2D9880>"
      ]
     },
     "metadata": {},
     "output_type": "display_data"
    }
   ],
   "source": [
    "url = df[\"source_url\"][31]\n",
    "\n",
    "response = requests.get(url)\n",
    "url_img = Image.open(BytesIO(response.content))\n",
    "\n",
    "print(url_img.size)\n",
    "display(url_img)\n",
    "\n",
    "print(url_img.convert('1').size)\n",
    "display(url_img.convert('1'))\n",
    "\n",
    "print(my_crop(url_img).convert('1').size)\n",
    "display(my_crop(url_img).convert('1'))"
   ]
  },
  {
   "cell_type": "code",
   "execution_count": 22,
   "metadata": {},
   "outputs": [
    {
     "name": "stdout",
     "output_type": "stream",
     "text": [
      "Default\t\t\t 327600\n",
      "Default converted\t 109200\n",
      "Default square converted 78400\n",
      "Default square converted 67600\n",
      "150 x 150 RBG\t\t 67500\n"
     ]
    }
   ],
   "source": [
    "print(\"Default\\t\\t\\t\", 390*280*3)\n",
    "print(\"Default converted\\t\", 390*280)\n",
    "print(\"Default square converted\", 280*280)\n",
    "print(\"Default square converted\", 260*260)\n",
    "print(\"150 x 150 RBG\\t\\t\", (150**2)*3)"
   ]
  }
 ],
 "metadata": {
  "kernelspec": {
   "display_name": "Python 3",
   "language": "python",
   "name": "python3"
  },
  "language_info": {
   "codemirror_mode": {
    "name": "ipython",
    "version": 3
   },
   "file_extension": ".py",
   "mimetype": "text/x-python",
   "name": "python",
   "nbconvert_exporter": "python",
   "pygments_lexer": "ipython3",
   "version": "3.8.3"
  }
 },
 "nbformat": 4,
 "nbformat_minor": 4
}
