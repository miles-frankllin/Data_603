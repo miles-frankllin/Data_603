{
 "cells": [
  {
   "cell_type": "markdown",
   "metadata": {},
   "source": [
    "# Goals\n",
    "    _x_ Install Tensorflow \n",
    "    _x_ Install pymongo\n",
    "    _x_ Read from pymongo\n",
    "    _x_ Figure out how to give image data to Sklearn models\n",
    "        1. Multi Dimensional np.array\n",
    "        2. Convert to PIL.Image to reshape all images to same size (Need to make them smaller)\n",
    "        3. Convert back to np.array\n",
    "        4. Let X = pd.DataFrame(np.row_stack(df.numpy_arr))\n",
    "    ___ Rethink project\n",
    "        1. Stick with Race ID\n",
    "            ___ Scrape more images to train on\n",
    "            ___ Keep or drop Native American\n",
    "        2. Transition over to Ethinicity\n",
    "        3. Transition from Race to something simpler i.e.\n",
    "            a. Mask vs No Mask\n",
    "                - https://www.youtube.com/results?search_query=object+detect+mask+vs+no+mask\n",
    "            b. Cats vs Dogs\n",
    "            c. Pedestrian vs Vehicle\n",
    "                - Possibly exapand vehicle into Car, Bike, Scooter, Truck\n",
    "    ___ Move into a cluster setting\n",
    "    ___ Learn and Impliment TensorFlow\n",
    "    ___ Future Direction\n",
    "        1. The Frame work is pretty versatile so it would be cool to have realtime translations of sign language\n",
    "        2. Make a UI for uploading and labeling images\n",
    "            a. Similar to Amazon Turk\n",
    "        3. Improve quality of training set\n",
    "        4. Try different models\n",
    "            a. CV grid for the Decision Tree\n",
    "            b. SVM, CNN, etc."
   ]
  },
  {
   "cell_type": "markdown",
   "metadata": {},
   "source": [
    "# Installs"
   ]
  },
  {
   "cell_type": "code",
   "execution_count": 1,
   "metadata": {
    "scrolled": false
   },
   "outputs": [],
   "source": [
    "# import sys\n",
    "\n",
    "# !pip install --prefix {sys.prefix} tensorflow"
   ]
  },
  {
   "cell_type": "code",
   "execution_count": 2,
   "metadata": {
    "scrolled": true
   },
   "outputs": [],
   "source": [
    "# import sys\n",
    "\n",
    "# !pip install --prefix {sys.prefix} scikit-learn"
   ]
  },
  {
   "cell_type": "code",
   "execution_count": 3,
   "metadata": {},
   "outputs": [],
   "source": [
    "# conda install scikit-image"
   ]
  },
  {
   "cell_type": "markdown",
   "metadata": {},
   "source": [
    "# Imports"
   ]
  },
  {
   "cell_type": "code",
   "execution_count": 103,
   "metadata": {},
   "outputs": [],
   "source": [
    "import pickle\n",
    "from PIL import Image \n",
    "from skimage import io\n",
    "import random\n",
    "import pandas as pd\n",
    "import pymongo\n",
    "from sklearn.model_selection import train_test_split\n",
    "from sklearn.feature_extraction.image import extract_patches_2d\n",
    "from sklearn.model_selection import cross_val_score\n",
    "from sklearn import tree\n",
    "import numpy as np\n",
    "import tensorflow as tf\n",
    "# smart phrone: ssd_mobilenet\n",
    "# laptop: rcnn"
   ]
  },
  {
   "cell_type": "markdown",
   "metadata": {},
   "source": [
    "# Connect to MongoDB"
   ]
  },
  {
   "cell_type": "code",
   "execution_count": 3,
   "metadata": {},
   "outputs": [],
   "source": [
    "user = \"\"\n",
    "pswd = \"\"\n",
    "\n",
    "client = pymongo.MongoClient(\"mongodb+srv://{}:{}@cluster0.ihx5p.mongodb.net/<dbname>?retryWrites=true&w=majority\".format(user, pswd))\n",
    "db = client[\"DATA_603\"]\n",
    "collection = db[\"test_images\"]"
   ]
  },
  {
   "cell_type": "markdown",
   "metadata": {},
   "source": [
    "# Test Connection"
   ]
  },
  {
   "cell_type": "code",
   "execution_count": 4,
   "metadata": {
    "scrolled": true
   },
   "outputs": [],
   "source": [
    "def check_db_collection(race=\"American Indian\"):\n",
    "    count = 0\n",
    "    cursor = collection.find({\"race\": race})\n",
    "    for document in cursor:\n",
    "        # num = document[\"_id\"]\n",
    "        # print(num)\n",
    "        # num = num.split(\"_\")[-1]\n",
    "        # print(num)\n",
    "        # if int(num) % 10 == 0:\n",
    "        print(document[\"_id\"])\n",
    "        img = pickle.loads( document[\"numpy_arr\"] )\n",
    "        Image.fromarray(img, 'RGB').show(title=document[\"_id\"])\n",
    "        count += 1 \n",
    "#         if count == 10:\n",
    "#             return \n",
    "    \n",
    "# check_db_collection()"
   ]
  },
  {
   "cell_type": "markdown",
   "metadata": {},
   "source": [
    "# Hold images in a container\n",
    "Cast as Image to resize and grey, and then cast bast as numpy array to flatten array and split into feature columns"
   ]
  },
  {
   "cell_type": "code",
   "execution_count": 13,
   "metadata": {},
   "outputs": [
    {
     "name": "stdout",
     "output_type": "stream",
     "text": [
      "100\n",
      "568\n"
     ]
    }
   ],
   "source": [
    "print(db[\"mask_images\"].count_documents({}))\n",
    "print(db[\"test_images\"].count_documents({}))"
   ]
  },
  {
   "cell_type": "code",
   "execution_count": 19,
   "metadata": {},
   "outputs": [],
   "source": [
    "%time df_mask = pd.DataFrame(db[\"mask_images\"].find({}))"
   ]
  },
  {
   "cell_type": "code",
   "execution_count": 20,
   "metadata": {},
   "outputs": [
    {
     "name": "stdout",
     "output_type": "stream",
     "text": [
      "CPU times: user 3.21 s, sys: 2.29 s, total: 5.5 s\n",
      "Wall time: 45min 36s\n"
     ]
    }
   ],
   "source": [
    "%time df_race = pd.DataFrame(db[\"test_images\"].find({}))"
   ]
  },
  {
   "cell_type": "code",
   "execution_count": 192,
   "metadata": {},
   "outputs": [
    {
     "data": {
      "text/html": [
       "<div>\n",
       "<style scoped>\n",
       "    .dataframe tbody tr th:only-of-type {\n",
       "        vertical-align: middle;\n",
       "    }\n",
       "\n",
       "    .dataframe tbody tr th {\n",
       "        vertical-align: top;\n",
       "    }\n",
       "\n",
       "    .dataframe thead th {\n",
       "        text-align: right;\n",
       "    }\n",
       "</style>\n",
       "<table border=\"1\" class=\"dataframe\">\n",
       "  <thead>\n",
       "    <tr style=\"text-align: right;\">\n",
       "      <th></th>\n",
       "      <th>_id</th>\n",
       "      <th>source_url</th>\n",
       "      <th>numpy_arr</th>\n",
       "      <th>target</th>\n",
       "    </tr>\n",
       "  </thead>\n",
       "  <tbody>\n",
       "    <tr>\n",
       "      <th>0</th>\n",
       "      <td>Covid_Mask_0</td>\n",
       "      <td>https://image.shutterstock.com/image-photo/sho...</td>\n",
       "      <td>b'\\x80\\x02cnumpy.core.multiarray\\n_reconstruct...</td>\n",
       "      <td>Covid Mask</td>\n",
       "    </tr>\n",
       "    <tr>\n",
       "      <th>1</th>\n",
       "      <td>Covid_Mask_1</td>\n",
       "      <td>https://image.shutterstock.com/image-photo/cor...</td>\n",
       "      <td>b'\\x80\\x02cnumpy.core.multiarray\\n_reconstruct...</td>\n",
       "      <td>Covid Mask</td>\n",
       "    </tr>\n",
       "    <tr>\n",
       "      <th>2</th>\n",
       "      <td>Covid_Mask_2</td>\n",
       "      <td>https://image.shutterstock.com/image-photo/clo...</td>\n",
       "      <td>b'\\x80\\x02cnumpy.core.multiarray\\n_reconstruct...</td>\n",
       "      <td>Covid Mask</td>\n",
       "    </tr>\n",
       "    <tr>\n",
       "      <th>3</th>\n",
       "      <td>Covid_Mask_3</td>\n",
       "      <td>https://image.shutterstock.com/image-photo/clo...</td>\n",
       "      <td>b'\\x80\\x02cnumpy.core.multiarray\\n_reconstruct...</td>\n",
       "      <td>Covid Mask</td>\n",
       "    </tr>\n",
       "    <tr>\n",
       "      <th>4</th>\n",
       "      <td>Covid_Mask_4</td>\n",
       "      <td>https://image.shutterstock.com/image-photo/gor...</td>\n",
       "      <td>b'\\x80\\x02cnumpy.core.multiarray\\n_reconstruct...</td>\n",
       "      <td>Covid Mask</td>\n",
       "    </tr>\n",
       "    <tr>\n",
       "      <th>...</th>\n",
       "      <td>...</td>\n",
       "      <td>...</td>\n",
       "      <td>...</td>\n",
       "      <td>...</td>\n",
       "    </tr>\n",
       "    <tr>\n",
       "      <th>663</th>\n",
       "      <td>Native_Hawaiian_63</td>\n",
       "      <td>https://image.shutterstock.com/image-photo/por...</td>\n",
       "      <td>b'\\x80\\x02cnumpy.core.multiarray\\n_reconstruct...</td>\n",
       "      <td>No Mask</td>\n",
       "    </tr>\n",
       "    <tr>\n",
       "      <th>664</th>\n",
       "      <td>Native_Hawaiian_64</td>\n",
       "      <td>https://image.shutterstock.com/image-photo/por...</td>\n",
       "      <td>b'\\x80\\x02cnumpy.core.multiarray\\n_reconstruct...</td>\n",
       "      <td>No Mask</td>\n",
       "    </tr>\n",
       "    <tr>\n",
       "      <th>665</th>\n",
       "      <td>Native_Hawaiian_65</td>\n",
       "      <td>https://image.shutterstock.com/image-photo/haw...</td>\n",
       "      <td>b'\\x80\\x02cnumpy.core.multiarray\\n_reconstruct...</td>\n",
       "      <td>No Mask</td>\n",
       "    </tr>\n",
       "    <tr>\n",
       "      <th>666</th>\n",
       "      <td>Native_Hawaiian_66</td>\n",
       "      <td>https://image.shutterstock.com/image-photo/por...</td>\n",
       "      <td>b'\\x80\\x02cnumpy.core.multiarray\\n_reconstruct...</td>\n",
       "      <td>No Mask</td>\n",
       "    </tr>\n",
       "    <tr>\n",
       "      <th>667</th>\n",
       "      <td>Native_Hawaiian_67</td>\n",
       "      <td>https://image.shutterstock.com/image-photo/por...</td>\n",
       "      <td>b'\\x80\\x02cnumpy.core.multiarray\\n_reconstruct...</td>\n",
       "      <td>No Mask</td>\n",
       "    </tr>\n",
       "  </tbody>\n",
       "</table>\n",
       "<p>668 rows × 4 columns</p>\n",
       "</div>"
      ],
      "text/plain": [
       "                    _id                                         source_url  \\\n",
       "0          Covid_Mask_0  https://image.shutterstock.com/image-photo/sho...   \n",
       "1          Covid_Mask_1  https://image.shutterstock.com/image-photo/cor...   \n",
       "2          Covid_Mask_2  https://image.shutterstock.com/image-photo/clo...   \n",
       "3          Covid_Mask_3  https://image.shutterstock.com/image-photo/clo...   \n",
       "4          Covid_Mask_4  https://image.shutterstock.com/image-photo/gor...   \n",
       "..                  ...                                                ...   \n",
       "663  Native_Hawaiian_63  https://image.shutterstock.com/image-photo/por...   \n",
       "664  Native_Hawaiian_64  https://image.shutterstock.com/image-photo/por...   \n",
       "665  Native_Hawaiian_65  https://image.shutterstock.com/image-photo/haw...   \n",
       "666  Native_Hawaiian_66  https://image.shutterstock.com/image-photo/por...   \n",
       "667  Native_Hawaiian_67  https://image.shutterstock.com/image-photo/por...   \n",
       "\n",
       "                                             numpy_arr      target  \n",
       "0    b'\\x80\\x02cnumpy.core.multiarray\\n_reconstruct...  Covid Mask  \n",
       "1    b'\\x80\\x02cnumpy.core.multiarray\\n_reconstruct...  Covid Mask  \n",
       "2    b'\\x80\\x02cnumpy.core.multiarray\\n_reconstruct...  Covid Mask  \n",
       "3    b'\\x80\\x02cnumpy.core.multiarray\\n_reconstruct...  Covid Mask  \n",
       "4    b'\\x80\\x02cnumpy.core.multiarray\\n_reconstruct...  Covid Mask  \n",
       "..                                                 ...         ...  \n",
       "663  b'\\x80\\x02cnumpy.core.multiarray\\n_reconstruct...     No Mask  \n",
       "664  b'\\x80\\x02cnumpy.core.multiarray\\n_reconstruct...     No Mask  \n",
       "665  b'\\x80\\x02cnumpy.core.multiarray\\n_reconstruct...     No Mask  \n",
       "666  b'\\x80\\x02cnumpy.core.multiarray\\n_reconstruct...     No Mask  \n",
       "667  b'\\x80\\x02cnumpy.core.multiarray\\n_reconstruct...     No Mask  \n",
       "\n",
       "[668 rows x 4 columns]"
      ]
     },
     "execution_count": 192,
     "metadata": {},
     "output_type": "execute_result"
    }
   ],
   "source": [
    "df = df_mask.append(df_race, sort=False).reset_index()\n",
    "df = df[[\"_id\", \"source_url\", \"numpy_arr\", \"target\"]]\n",
    "df[\"target\"].fillna(\"No Mask\", inplace=True)\n",
    "df"
   ]
  },
  {
   "cell_type": "code",
   "execution_count": 193,
   "metadata": {},
   "outputs": [],
   "source": [
    "df[\"numpy_arr\"] = df[\"numpy_arr\"].apply(lambda x: pickle.loads(x))\n",
    "df[\"numpy_arr\"] = df[\"numpy_arr\"].apply(lambda x: Image.fromarray(x, 'RGB'))\n",
    "# %time df"
   ]
  },
  {
   "cell_type": "markdown",
   "metadata": {},
   "source": [
    "# Rerformat Images (Crop, grayscale, fixed size)\n",
    "Ref: https://machinelearningmastery.com/how-to-load-and-manipulate-images-for-deep-learning-in-python-with-pil-pillow/\n",
    "\n",
    "https://scikit-learn.org/0.15/auto_examples/cluster/plot_dict_face_patches.html"
   ]
  },
  {
   "cell_type": "code",
   "execution_count": 194,
   "metadata": {},
   "outputs": [],
   "source": [
    "# Reduce data\n",
    "# h = (8/10)*h_old = (4/5)*h_old\n",
    "# w = (8/10)*w_old = (4/5)*h_old\n",
    "# a = (16/25)*a_old = .64*a_old = (1 - .36)*a_old\n",
    "def my_crop(x):\n",
    "    reducing_term = 10\n",
    "    left = 1*width / reducing_term\n",
    "    top = 0#height / reducing_term\n",
    "    right = width * ((reducing_term-1)/ reducing_term)\n",
    "    bottom = height * ((reducing_term-2)/ reducing_term)\n",
    "\n",
    "    # Cropped image of above dimension \n",
    "    # (It will not change orginal image) \n",
    "    return x.crop((left, top, right, bottom)) \n",
    "\n",
    "df[\"numpy_arr\"] = df[\"numpy_arr\"].apply(lambda x: my_crop(x))"
   ]
  },
  {
   "cell_type": "code",
   "execution_count": 195,
   "metadata": {},
   "outputs": [
    {
     "data": {
      "text/plain": [
       "(276, 224)"
      ]
     },
     "execution_count": 195,
     "metadata": {},
     "output_type": "execute_result"
    }
   ],
   "source": [
    "temp = pd.DataFrame()\n",
    "\n",
    "temp[\"H\"] = df[\"numpy_arr\"].apply(lambda x: x.size[0])\n",
    "temp[\"W\"] = df[\"numpy_arr\"].apply(lambda x: x.size[1])\n",
    "\n",
    "temp.describe()\n",
    "size = round(temp[\"H\"].mean()), temp[\"W\"].mean()\n",
    "size = int(size[0]), int(size[1])\n",
    "size"
   ]
  },
  {
   "cell_type": "markdown",
   "metadata": {},
   "source": [
    "# Note, Incomming images will have to be reshaped to the same size"
   ]
  },
  {
   "cell_type": "code",
   "execution_count": 196,
   "metadata": {},
   "outputs": [],
   "source": [
    "# Convert the image to grayscale\n",
    "df[\"numpy_arr\"] = df[\"numpy_arr\"].apply(lambda x: x.convert(mode='L'))\n",
    "# Resize Image\n",
    "df[\"numpy_arr\"] = df[\"numpy_arr\"].apply(lambda x: x.resize(size))\n",
    "# df[\"numpy_arr\"] = df[\"numpy_arr\"].apply(lambda x: x.resize((64,64))) # Currently looses too much information"
   ]
  },
  {
   "cell_type": "markdown",
   "metadata": {},
   "source": [
    "# Flatten numpy arr and transform into columns"
   ]
  },
  {
   "cell_type": "code",
   "execution_count": 197,
   "metadata": {},
   "outputs": [],
   "source": [
    "# df # Should be PIL Image Objects"
   ]
  },
  {
   "cell_type": "code",
   "execution_count": 198,
   "metadata": {},
   "outputs": [],
   "source": [
    "# Flatten Numpy Arr - cant convert into PIL Image\n",
    "df[\"numpy_arr\"] = df[\"numpy_arr\"].apply(lambda x: np.array(x))\n",
    "\n",
    "df[\"numpy_arr\"] = df[\"numpy_arr\"].apply(lambda x: x.flatten(\"F\"))\n",
    "# temp = df[\"numpy_arr\"][0].reshape((334,280)).T # To undo \n",
    "\n",
    "# df[\"numpy_arr\"] = df[\"numpy_arr\"].apply(lambda x: x.flatten())\n",
    "# temp = df[\"numpy_arr\"][0].reshape((280,334)) # To undo\n",
    "# Image.fromarray(temp)"
   ]
  },
  {
   "cell_type": "code",
   "execution_count": 199,
   "metadata": {},
   "outputs": [],
   "source": [
    "# df"
   ]
  },
  {
   "cell_type": "markdown",
   "metadata": {},
   "source": [
    "# Model doesn't do too bad on a binary classification"
   ]
  },
  {
   "cell_type": "code",
   "execution_count": 200,
   "metadata": {},
   "outputs": [],
   "source": [
    "temp = df.copy()\n",
    "# temp = temp[(temp[\"race\"]==\"African American\") | (temp[\"race\"]==\"Native Hawaiian\")]\n",
    "\n",
    "X = pd.DataFrame(np.row_stack(temp.numpy_arr))\n",
    "Y = np.array(temp.target)\n",
    "\n",
    "X_train, X_test, Y_train, Y_test = train_test_split(X,\n",
    "                                                    Y,\n",
    "                                                    test_size=0.1,\n",
    "                                                    shuffle=True,\n",
    "                                                    random_state=2020)"
   ]
  },
  {
   "cell_type": "code",
   "execution_count": 201,
   "metadata": {
    "scrolled": false
   },
   "outputs": [],
   "source": [
    "# # random.choice(X)\n",
    "# display(X)\n",
    "# #%time display(pd.DataFrame(list(map(np.ravel, X))))\n",
    "# %time display(pd.DataFrame(np.row_stack(X))) # WINNER !!!\n",
    "# %time display(pd.DataFrame(X))"
   ]
  },
  {
   "cell_type": "markdown",
   "metadata": {},
   "source": [
    "# Using sklearn "
   ]
  },
  {
   "cell_type": "code",
   "execution_count": 202,
   "metadata": {
    "scrolled": true
   },
   "outputs": [
    {
     "name": "stdout",
     "output_type": "stream",
     "text": [
      "CPU times: user 25.7 s, sys: 193 ms, total: 25.9 s\n",
      "Wall time: 27.5 s\n"
     ]
    }
   ],
   "source": [
    "model = tree.DecisionTreeClassifier(random_state=2020)\n",
    "%time model = model.fit(X_train, Y_train)"
   ]
  },
  {
   "cell_type": "markdown",
   "metadata": {},
   "source": [
    "# TBD\n",
    "This implies that the model is over fitting to the training data (All races)"
   ]
  },
  {
   "cell_type": "code",
   "execution_count": 203,
   "metadata": {},
   "outputs": [
    {
     "name": "stdout",
     "output_type": "stream",
     "text": [
      "Training data: 1.0\n",
      "Testing data:  0.7761194029850746\n"
     ]
    }
   ],
   "source": [
    "print(\"Training data:\", model.score(X_train, Y_train))\n",
    "print(\"Testing data: \", model.score(X_test, Y_test))"
   ]
  },
  {
   "cell_type": "markdown",
   "metadata": {},
   "source": [
    "# Using TensorFlow Deep Learning"
   ]
  },
  {
   "cell_type": "code",
   "execution_count": 204,
   "metadata": {},
   "outputs": [
    {
     "data": {
      "text/plain": [
       "(276, 224)"
      ]
     },
     "execution_count": 204,
     "metadata": {},
     "output_type": "execute_result"
    }
   ],
   "source": [
    "size"
   ]
  },
  {
   "cell_type": "code",
   "execution_count": 205,
   "metadata": {
    "scrolled": false
   },
   "outputs": [],
   "source": [
    "# # Initialize Model\n",
    "# model_tf = tf.keras.Sequential([\n",
    "#     # Number of pixels per image, flattened\n",
    "#     #tf.keras.layers.Flatten(input_shape=size),\n",
    "#     # Number of nodes in first layer\n",
    "#     tf.keras.layers.Dense(128, activation='relu'),\n",
    "#     # Number of outputs (Mask vs No Mask)\n",
    "#     tf.keras.layers.Dense(2)\n",
    "# ])\n",
    "\n",
    "# # Compile Model\n",
    "# model_tf.compile(optimizer='adam',\n",
    "#               loss=tf.keras.losses.SparseCategoricalCrossentropy(from_logits=True),\n",
    "#               metrics=['accuracy'])\n",
    "\n",
    "# # Train Model\n",
    "# model_tf.fit(X_train, Y_train, epochs=10)"
   ]
  },
  {
   "cell_type": "markdown",
   "metadata": {},
   "source": [
    "# Resizing Options\n",
    "https://www.geeksforgeeks.org/python-pil-image-crop-method/"
   ]
  },
  {
   "cell_type": "code",
   "execution_count": 206,
   "metadata": {},
   "outputs": [
    {
     "name": "stdout",
     "output_type": "stream",
     "text": [
      "Initial (276, 224)\n",
      "Final (166, 179)\n"
     ]
    },
    {
     "data": {
      "image/png": "[encoded data removed]",
      "text/plain": [
       "<PIL.Image.Image image mode=L size=166x179 at 0x7FA5E11644F0>"
      ]
     },
     "execution_count": 206,
     "metadata": {},
     "output_type": "execute_result"
    }
   ],
   "source": [
    "temp = df[\"numpy_arr\"][7].reshape(size).T # To undo \n",
    "# temp = df[\"numpy_arr\"][0].reshape((280,334)) # To undo \n",
    "im = Image.fromarray(temp)\n",
    "\n",
    "# Size of the image in pixels (size of orginal image) \n",
    "# (This is not mandatory) \n",
    "print(\"Initial\", im.size)\n",
    "width, height = im.size \n",
    "  \n",
    "# Setting the points for cropped image \n",
    "reducing_term = 10\n",
    "left = 2*width / reducing_term\n",
    "top = 0#height / reducing_term\n",
    "right = width * ((reducing_term-2)/ reducing_term)\n",
    "bottom = height * ((reducing_term-2)/ reducing_term)\n",
    "  \n",
    "# Cropped image of above dimension \n",
    "# (It will not change orginal image) \n",
    "im1 = im.crop((left, top, right, bottom)) \n",
    "  \n",
    "# Shows the image in image viewer \n",
    "# im1.show() \n",
    "print(\"Final\", im1.size)\n",
    "im1"
   ]
  },
  {
   "cell_type": "code",
   "execution_count": 207,
   "metadata": {},
   "outputs": [
    {
     "data": {
      "image/png": "[encoded data removed]",
      "text/plain": [
       "<PIL.Image.Image image mode=L size=276x224 at 0x7FA5E53956A0>"
      ]
     },
     "execution_count": 207,
     "metadata": {},
     "output_type": "execute_result"
    }
   ],
   "source": [
    "# size = 64, 64\n",
    "im2 = im.resize((size))\n",
    "im2"
   ]
  },
  {
   "cell_type": "code",
   "execution_count": null,
   "metadata": {},
   "outputs": [],
   "source": []
  }
 ],
 "metadata": {
  "kernelspec": {
   "display_name": "Python 3",
   "language": "python",
   "name": "python3"
  },
  "language_info": {
   "codemirror_mode": {
    "name": "ipython",
    "version": 3
   },
   "file_extension": ".py",
   "mimetype": "text/x-python",
   "name": "python",
   "nbconvert_exporter": "python",
   "pygments_lexer": "ipython3",
   "version": "3.8.2"
  }
 },
 "nbformat": 4,
 "nbformat_minor": 4
}
