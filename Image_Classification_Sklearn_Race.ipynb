{
 "cells": [
  {
   "cell_type": "markdown",
   "metadata": {},
   "source": [
    "# Goals\n",
    "    _x_ Install Tensorflow \n",
    "    _x_ Install pymongo\n",
    "    _x_ Read from pymongo\n",
    "    _x_ Figure out how to give image data to Sklearn models\n",
    "        1. Multi Dimensional np.array\n",
    "        2. Convert to PIL.Image to reshape all images to same size (Need to make them smaller)\n",
    "        3. Convert back to np.array\n",
    "        4. Let X = pd.DataFrame(np.row_stack(df.numpy_arr))\n",
    "    ___ Rethink project\n",
    "        1. Stick with Race ID\n",
    "            ___ Scrape more images to train on\n",
    "            ___ Keep or drop Native American\n",
    "        2. Transition over to Ethinicity\n",
    "        3. Transition from Race to something simpler i.e.\n",
    "            a. Mask vs No Mask\n",
    "                - https://www.youtube.com/results?search_query=object+detect+mask+vs+no+mask\n",
    "            b. Cats vs Dogs\n",
    "            c. Pedestrian vs Vehicle\n",
    "                - Possibly exapand vehicle into Car, Bike, Scooter, Truck\n",
    "    ___ Move into a cluster setting\n",
    "    ___ Learn and Impliment TensorFlow\n",
    "    ___ Future Direction\n",
    "        1. The Frame work is pretty versatile so it would be cool to have realtime translations of sign language\n",
    "        2. Make a UI for uploading and labeling images\n",
    "            a. Similar to Amazon Turk\n",
    "        3. Improve quality of training set\n",
    "        4. Try different models\n",
    "            a. CV grid for the Decision Tree\n",
    "            b. SVM, CNN, etc."
   ]
  },
  {
   "cell_type": "markdown",
   "metadata": {},
   "source": [
    "# Installs"
   ]
  },
  {
   "cell_type": "code",
   "execution_count": 6,
   "metadata": {
    "scrolled": false
   },
   "outputs": [],
   "source": [
    "# import sys\n",
    "\n",
    "# !pip install --prefix {sys.prefix} tensorflow"
   ]
  },
  {
   "cell_type": "code",
   "execution_count": 396,
   "metadata": {
    "scrolled": true
   },
   "outputs": [],
   "source": [
    "# import sys\n",
    "\n",
    "# !pip install --prefix {sys.prefix} scikit-learn"
   ]
  },
  {
   "cell_type": "code",
   "execution_count": 113,
   "metadata": {},
   "outputs": [],
   "source": [
    "# conda install scikit-image"
   ]
  },
  {
   "cell_type": "markdown",
   "metadata": {},
   "source": [
    "# Imports"
   ]
  },
  {
   "cell_type": "code",
   "execution_count": 395,
   "metadata": {},
   "outputs": [],
   "source": [
    "import pickle\n",
    "from PIL import Image \n",
    "from skimage import io\n",
    "import random\n",
    "import pandas as pd\n",
    "import pymongo\n",
    "from sklearn.model_selection import train_test_split\n",
    "from sklearn.feature_extraction.image import extract_patches_2d\n",
    "from sklearn.model_selection import cross_val_score\n",
    "from sklearn import tree\n",
    "import numpy as np\n",
    "# import tensorflow as tf\n",
    "# smart phrone: ssd_mobilenet\n",
    "# laptop: rcnn"
   ]
  },
  {
   "cell_type": "markdown",
   "metadata": {},
   "source": [
    "# Connect to MongoDB"
   ]
  },
  {
   "cell_type": "code",
   "execution_count": 22,
   "metadata": {},
   "outputs": [],
   "source": [
    "user = \"\"\n",
    "pswd = \"\"\n",
    "\n",
    "client = pymongo.MongoClient(\"mongodb+srv://{}:{}@cluster0.ihx5p.mongodb.net/<dbname>?retryWrites=true&w=majority\".format(user, pswd))\n",
    "db = client[\"DATA_603\"]\n",
    "collection = db[\"test_images\"]"
   ]
  },
  {
   "cell_type": "markdown",
   "metadata": {},
   "source": [
    "# Test Connection"
   ]
  },
  {
   "cell_type": "code",
   "execution_count": 423,
   "metadata": {
    "scrolled": true
   },
   "outputs": [],
   "source": [
    "def check_db_collection(race=\"American Indian\"):\n",
    "    count = 0\n",
    "    cursor = collection.find({\"race\": race})\n",
    "    for document in cursor:\n",
    "        # num = document[\"_id\"]\n",
    "        # print(num)\n",
    "        # num = num.split(\"_\")[-1]\n",
    "        # print(num)\n",
    "        # if int(num) % 10 == 0:\n",
    "        print(document[\"_id\"])\n",
    "        img = pickle.loads( document[\"numpy_arr\"] )\n",
    "        Image.fromarray(img, 'RGB').show(title=document[\"_id\"])\n",
    "        count += 1 \n",
    "#         if count == 10:\n",
    "#             return \n",
    "    \n",
    "# check_db_collection()"
   ]
  },
  {
   "cell_type": "markdown",
   "metadata": {},
   "source": [
    "# Hold images in a container\n",
    "Cast as Image to resize and grey, and then cast bast as numpy array to flatten array and split into feature columns"
   ]
  },
  {
   "cell_type": "code",
   "execution_count": 408,
   "metadata": {},
   "outputs": [
    {
     "name": "stdout",
     "output_type": "stream",
     "text": [
      "568\n",
      "CPU times: user 1.17 s, sys: 859 ms, total: 2.03 s\n",
      "Wall time: 19.6 s\n",
      "CPU times: user 364 ms, sys: 92.3 ms, total: 456 ms\n",
      "Wall time: 477 ms\n",
      "CPU times: user 127 ms, sys: 93.6 ms, total: 221 ms\n",
      "Wall time: 237 ms\n"
     ]
    }
   ],
   "source": [
    "print(collection.count_documents({}))\n",
    "%time df = pd.DataFrame(collection.find({}))\n",
    "df[\"numpy_arr\"] = df[\"numpy_arr\"].apply(lambda x: pickle.loads(x))\n",
    "df[\"numpy_arr\"] = df[\"numpy_arr\"].apply(lambda x: Image.fromarray(x, 'RGB'))\n",
    "# %time df"
   ]
  },
  {
   "cell_type": "markdown",
   "metadata": {},
   "source": [
    "# Rerformat Images (Grayscale, fixed size)\n",
    "Ref: https://machinelearningmastery.com/how-to-load-and-manipulate-images-for-deep-learning-in-python-with-pil-pillow/\n",
    "\n",
    "https://scikit-learn.org/0.15/auto_examples/cluster/plot_dict_face_patches.html"
   ]
  },
  {
   "cell_type": "code",
   "execution_count": 409,
   "metadata": {},
   "outputs": [
    {
     "data": {
      "text/plain": [
       "(334, 280)"
      ]
     },
     "execution_count": 409,
     "metadata": {},
     "output_type": "execute_result"
    }
   ],
   "source": [
    "temp = pd.DataFrame()\n",
    "\n",
    "temp[\"H\"] = df[\"numpy_arr\"].apply(lambda x: x.size[0])\n",
    "temp[\"W\"] = df[\"numpy_arr\"].apply(lambda x: x.size[1])\n",
    "\n",
    "temp.describe()\n",
    "size = round(temp[\"H\"].mean()), temp[\"W\"].mean()\n",
    "size = int(size[0]), int(size[1])\n",
    "size"
   ]
  },
  {
   "cell_type": "markdown",
   "metadata": {},
   "source": [
    "# Note, Incomming images will have to be reshaped to the same size"
   ]
  },
  {
   "cell_type": "code",
   "execution_count": 410,
   "metadata": {},
   "outputs": [],
   "source": [
    "# Convert the image to grayscale\n",
    "df[\"numpy_arr\"] = df[\"numpy_arr\"].apply(lambda x: x.convert(mode='L'))\n",
    "# Resize Image\n",
    "df[\"numpy_arr\"] = df[\"numpy_arr\"].apply(lambda x: x.resize(size))\n",
    "# df[\"numpy_arr\"] = df[\"numpy_arr\"].apply(lambda x: x.resize((64,64))) # Currently looses too much information"
   ]
  },
  {
   "cell_type": "markdown",
   "metadata": {},
   "source": [
    "# Flatten numpy arr and transform into columns"
   ]
  },
  {
   "cell_type": "code",
   "execution_count": 425,
   "metadata": {},
   "outputs": [],
   "source": [
    "# df # Should be PIL Image Objects"
   ]
  },
  {
   "cell_type": "code",
   "execution_count": 424,
   "metadata": {},
   "outputs": [
    {
     "name": "stdout",
     "output_type": "stream",
     "text": [
      "CPU times: user 45.2 ms, sys: 126 ms, total: 171 ms\n",
      "Wall time: 197 ms\n",
      "CPU times: user 28.4 ms, sys: 29.3 ms, total: 57.7 ms\n",
      "Wall time: 63.9 ms\n"
     ]
    }
   ],
   "source": [
    "# Flatten Numpy Arr - cant convert into PIL Image\n",
    "df[\"numpy_arr\"] = df[\"numpy_arr\"].apply(lambda x: np.array(x))\n",
    "\n",
    "df[\"numpy_arr\"] = df[\"numpy_arr\"].apply(lambda x: x.flatten(\"F\"))\n",
    "# temp = df[\"numpy_arr\"][0].reshape((334,280)).T # To undo \n",
    "\n",
    "# df[\"numpy_arr\"] = df[\"numpy_arr\"].apply(lambda x: x.flatten())\n",
    "# temp = df[\"numpy_arr\"][0].reshape((280,334)) # To undo\n",
    "# Image.fromarray(temp)"
   ]
  },
  {
   "cell_type": "code",
   "execution_count": 413,
   "metadata": {},
   "outputs": [],
   "source": [
    "# df"
   ]
  },
  {
   "cell_type": "markdown",
   "metadata": {},
   "source": [
    "# Model doesn't do too bad on a binary classification"
   ]
  },
  {
   "cell_type": "code",
   "execution_count": 1,
   "metadata": {},
   "outputs": [
    {
     "ename": "NameError",
     "evalue": "name 'df' is not defined",
     "output_type": "error",
     "traceback": [
      "\u001b[0;31m---------------------------------------------------------------------------\u001b[0m",
      "\u001b[0;31mNameError\u001b[0m                                 Traceback (most recent call last)",
      "\u001b[0;32m<ipython-input-1-4069427bc052>\u001b[0m in \u001b[0;36m<module>\u001b[0;34m\u001b[0m\n\u001b[0;32m----> 1\u001b[0;31m \u001b[0mtemp\u001b[0m \u001b[0;34m=\u001b[0m \u001b[0mdf\u001b[0m\u001b[0;34m.\u001b[0m\u001b[0mcopy\u001b[0m\u001b[0;34m(\u001b[0m\u001b[0;34m)\u001b[0m\u001b[0;34m\u001b[0m\u001b[0;34m\u001b[0m\u001b[0m\n\u001b[0m\u001b[1;32m      2\u001b[0m \u001b[0;31m# temp = temp[(temp[\"race\"]==\"African American\") | (temp[\"race\"]==\"Native Hawaiian\")]\u001b[0m\u001b[0;34m\u001b[0m\u001b[0;34m\u001b[0m\u001b[0;34m\u001b[0m\u001b[0m\n\u001b[1;32m      3\u001b[0m \u001b[0;34m\u001b[0m\u001b[0m\n\u001b[1;32m      4\u001b[0m \u001b[0mX\u001b[0m \u001b[0;34m=\u001b[0m \u001b[0mpd\u001b[0m\u001b[0;34m.\u001b[0m\u001b[0mDataFrame\u001b[0m\u001b[0;34m(\u001b[0m\u001b[0mnp\u001b[0m\u001b[0;34m.\u001b[0m\u001b[0mrow_stack\u001b[0m\u001b[0;34m(\u001b[0m\u001b[0mtemp\u001b[0m\u001b[0;34m.\u001b[0m\u001b[0mnumpy_arr\u001b[0m\u001b[0;34m)\u001b[0m\u001b[0;34m)\u001b[0m\u001b[0;34m\u001b[0m\u001b[0;34m\u001b[0m\u001b[0m\n\u001b[1;32m      5\u001b[0m \u001b[0mY\u001b[0m \u001b[0;34m=\u001b[0m \u001b[0mnp\u001b[0m\u001b[0;34m.\u001b[0m\u001b[0marray\u001b[0m\u001b[0;34m(\u001b[0m\u001b[0mtemp\u001b[0m\u001b[0;34m.\u001b[0m\u001b[0mrace\u001b[0m\u001b[0;34m)\u001b[0m\u001b[0;34m\u001b[0m\u001b[0;34m\u001b[0m\u001b[0m\n",
      "\u001b[0;31mNameError\u001b[0m: name 'df' is not defined"
     ]
    }
   ],
   "source": [
    "temp = df.copy()\n",
    "# temp = temp[(temp[\"race\"]==\"African American\") | (temp[\"race\"]==\"Native Hawaiian\")]\n",
    "\n",
    "X = pd.DataFrame(np.row_stack(temp.numpy_arr))\n",
    "Y = np.array(temp.race)\n",
    "\n",
    "X_train, X_test, Y_train, Y_test = train_test_split(X,\n",
    "                                                    Y,\n",
    "                                                    test_size=0.2,\n",
    "                                                    shuffle=True,\n",
    "                                                    random_state=2020)"
   ]
  },
  {
   "cell_type": "code",
   "execution_count": 420,
   "metadata": {
    "scrolled": false
   },
   "outputs": [],
   "source": [
    "# # random.choice(X)\n",
    "# display(X)\n",
    "# #%time display(pd.DataFrame(list(map(np.ravel, X))))\n",
    "# %time display(pd.DataFrame(np.row_stack(X))) # WINNER !!!\n",
    "# %time display(pd.DataFrame(X))"
   ]
  },
  {
   "cell_type": "markdown",
   "metadata": {},
   "source": [
    "# Using sklearn "
   ]
  },
  {
   "cell_type": "code",
   "execution_count": 421,
   "metadata": {
    "scrolled": true
   },
   "outputs": [
    {
     "name": "stdout",
     "output_type": "stream",
     "text": [
      "CPU times: user 4.89 s, sys: 36.9 ms, total: 4.92 s\n",
      "Wall time: 5.09 s\n"
     ]
    }
   ],
   "source": [
    "model = tree.DecisionTreeClassifier()\n",
    "%time model = model.fit(X_train, Y_train)"
   ]
  },
  {
   "cell_type": "markdown",
   "metadata": {},
   "source": [
    "# This implies that the model is over fitting to the training data (All races)"
   ]
  },
  {
   "cell_type": "code",
   "execution_count": 422,
   "metadata": {},
   "outputs": [
    {
     "name": "stdout",
     "output_type": "stream",
     "text": [
      "Training data: 1.0\n",
      "Testing data:  0.8235294117647058\n"
     ]
    }
   ],
   "source": [
    "print(\"Training data:\", model.score(X_train, Y_train))\n",
    "print(\"Testing data: \", model.score(X_test, Y_test))"
   ]
  },
  {
   "cell_type": "markdown",
   "metadata": {},
   "source": [
    "# Resizing Options\n",
    "https://www.geeksforgeeks.org/python-pil-image-crop-method/"
   ]
  },
  {
   "cell_type": "code",
   "execution_count": 379,
   "metadata": {},
   "outputs": [
    {
     "name": "stdout",
     "output_type": "stream",
     "text": [
      "Initial (334, 280)\n",
      "Final (200, 168)\n"
     ]
    },
    {
     "data": {
      "image/png": "[encoded data removed]",
      "text/plain": [
       "<PIL.Image.Image image mode=L size=200x168 at 0x7FCB110D9880>"
      ]
     },
     "execution_count": 379,
     "metadata": {},
     "output_type": "execute_result"
    }
   ],
   "source": [
    "temp = df[\"numpy_arr\"][0].reshape((334,280)).T # To undo \n",
    "temp = df[\"numpy_arr\"][0].reshape((280,334)) # To undo \n",
    "im = Image.fromarray(temp)\n",
    "\n",
    "# Size of the image in pixels (size of orginal image) \n",
    "# (This is not mandatory) \n",
    "print(\"Initial\", im.size)\n",
    "width, height = im.size \n",
    "  \n",
    "# Setting the points for cropped image \n",
    "reducing_term = 5\n",
    "left = width / reducing_term\n",
    "top = height / reducing_term\n",
    "right = width * ((reducing_term-1)/ reducing_term)\n",
    "bottom = height * ((reducing_term-1)/ reducing_term)\n",
    "  \n",
    "# Cropped image of above dimension \n",
    "# (It will not change orginal image) \n",
    "im1 = im.crop((left, top, right, bottom)) \n",
    "  \n",
    "# Shows the image in image viewer \n",
    "# im1.show() \n",
    "print(\"Final\", im1.size)\n",
    "im1"
   ]
  },
  {
   "cell_type": "code",
   "execution_count": 426,
   "metadata": {},
   "outputs": [
    {
     "data": {
      "image/png": "[encoded data removed]",
      "text/plain": [
       "<PIL.Image.Image image mode=L size=64x64 at 0x7FCC88E76B50>"
      ]
     },
     "execution_count": 426,
     "metadata": {},
     "output_type": "execute_result"
    }
   ],
   "source": [
    "size = 64, 64\n",
    "im2 = im.resize((size))\n",
    "im2"
   ]
  },
  {
   "cell_type": "code",
   "execution_count": null,
   "metadata": {},
   "outputs": [],
   "source": []
  }
 ],
 "metadata": {
  "kernelspec": {
   "display_name": "Python 3",
   "language": "python",
   "name": "python3"
  },
  "language_info": {
   "codemirror_mode": {
    "name": "ipython",
    "version": 3
   },
   "file_extension": ".py",
   "mimetype": "text/x-python",
   "name": "python",
   "nbconvert_exporter": "python",
   "pygments_lexer": "ipython3",
   "version": "3.8.2"
  }
 },
 "nbformat": 4,
 "nbformat_minor": 4
}
