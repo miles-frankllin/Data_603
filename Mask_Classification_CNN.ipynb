{
 "cells": [
  {
   "cell_type": "markdown",
   "metadata": {},
   "source": [
    "# Overview\n",
    "This notebook loads data saved in MongoDB and saves it locally so that it can be accessed using the keras_preprocessing library. The testing set is then used to train a convolutional neural network heavily based on the [Rock Paper Scissors CNN Tutorial](https://colab.research.google.com/github/lmoroney/dlaicourse/blob/master/Course%202%20-%20Part%208%20-%20Lesson%202%20-%20Notebook%20(RockPaperScissors).ipynb#scrollTo=LWTisYLQM1aM) from TensorFlow."
   ]
  },
  {
   "cell_type": "markdown",
   "metadata": {},
   "source": [
    "# Imports (MongoDB)"
   ]
  },
  {
   "cell_type": "code",
   "execution_count": 1,
   "metadata": {},
   "outputs": [],
   "source": [
    "import os\n",
    "import pickle\n",
    "from PIL import Image \n",
    "from skimage import io\n",
    "import random\n",
    "import pandas as pd\n",
    "import pymongo\n",
    "import numpy as np\n",
    "import bson\n",
    "from sklearn.model_selection import train_test_split\n",
    "import tensorflow as tf\n",
    "import os, shutil, errno"
   ]
  },
  {
   "cell_type": "markdown",
   "metadata": {},
   "source": [
    "# Connecting to MongoDB"
   ]
  },
  {
   "cell_type": "code",
   "execution_count": 2,
   "metadata": {},
   "outputs": [],
   "source": [
    "user = \"\"\n",
    "pswd = \"\""
   ]
  },
  {
   "cell_type": "code",
   "execution_count": 3,
   "metadata": {},
   "outputs": [],
   "source": [
    "client = pymongo.MongoClient(\"mongodb+srv://{}:{}@cluster0.x6cn9.mongodb.net/DATA_603?retryWrites=true&w=majority\".format(user, pswd))\n",
    "db = client[\"DATA_603\"]\n",
    "# collection = db[\"images\"]"
   ]
  },
  {
   "cell_type": "code",
   "execution_count": 4,
   "metadata": {},
   "outputs": [
    {
     "name": "stdout",
     "output_type": "stream",
     "text": [
      "0%... 10%... 20%... 30%... 40%... 50%... 60%... 70%... 80%... 90%... Finished Loading\n"
     ]
    }
   ],
   "source": [
    "def load_test_df(collection=1):\n",
    "    df_ = pd.DataFrame(db[\"test_{}\".format(collection)].find({}))\n",
    "    df_[\"numpy_arr\"] = df_[\"numpy_arr\"].apply(lambda x: pickle.loads(x))\n",
    "    df_[\"numpy_arr\"] = df_[\"numpy_arr\"].apply(lambda x: Image.fromarray(x, 'RGB'))\n",
    "    \n",
    "    return df_\n",
    "    \n",
    "def load_df():\n",
    "    arr = []\n",
    "    for i in range(56):\n",
    "        try:\n",
    "            temp = pd.DataFrame(db[\"images_{}\".format(i)].find({}))\n",
    "            temp[\"numpy_arr\"] = temp[\"numpy_arr\"].apply(lambda x: pickle.loads(x))\n",
    "            temp[\"numpy_arr\"] = temp[\"numpy_arr\"].apply(lambda x: Image.fromarray(x, 'RGB'))    \n",
    "            arr.append(temp)\n",
    "        except:\n",
    "            # display(temp)\n",
    "            continue\n",
    "\n",
    "        if i % 5 == 0 and i < 50:\n",
    "            print(\"{}%\".format(2*i), end =\"... \")\n",
    "        if i == 50:\n",
    "            print(\"Finished Loading\")\n",
    "\n",
    "    df = pd.concat(arr, ignore_index=True)\n",
    "    return df    \n",
    "    \n",
    "df = load_df()"
   ]
  },
  {
   "cell_type": "code",
   "execution_count": 5,
   "metadata": {},
   "outputs": [
    {
     "data": {
      "text/html": [
       "<div>\n",
       "<style scoped>\n",
       "    .dataframe tbody tr th:only-of-type {\n",
       "        vertical-align: middle;\n",
       "    }\n",
       "\n",
       "    .dataframe tbody tr th {\n",
       "        vertical-align: top;\n",
       "    }\n",
       "\n",
       "    .dataframe thead th {\n",
       "        text-align: right;\n",
       "    }\n",
       "</style>\n",
       "<table border=\"1\" class=\"dataframe\">\n",
       "  <thead>\n",
       "    <tr style=\"text-align: right;\">\n",
       "      <th></th>\n",
       "      <th>_id</th>\n",
       "      <th>source_url</th>\n",
       "      <th>numpy_arr</th>\n",
       "      <th>target</th>\n",
       "      <th>hand_labled_target</th>\n",
       "    </tr>\n",
       "  </thead>\n",
       "  <tbody>\n",
       "    <tr>\n",
       "      <th>0</th>\n",
       "      <td>Extra_0</td>\n",
       "      <td>https://image.shutterstock.com/image-photo/smi...</td>\n",
       "      <td>&lt;PIL.Image.Image image mode=RGB size=150x150 a...</td>\n",
       "      <td>No Mask</td>\n",
       "      <td>No Mask</td>\n",
       "    </tr>\n",
       "    <tr>\n",
       "      <th>1</th>\n",
       "      <td>Extra_1</td>\n",
       "      <td>https://image.shutterstock.com/image-photo/you...</td>\n",
       "      <td>&lt;PIL.Image.Image image mode=RGB size=150x150 a...</td>\n",
       "      <td>No Mask</td>\n",
       "      <td>No Mask</td>\n",
       "    </tr>\n",
       "    <tr>\n",
       "      <th>2</th>\n",
       "      <td>Extra_2</td>\n",
       "      <td>https://image.shutterstock.com/image-photo/smi...</td>\n",
       "      <td>&lt;PIL.Image.Image image mode=RGB size=150x150 a...</td>\n",
       "      <td>No Mask</td>\n",
       "      <td>No Mask</td>\n",
       "    </tr>\n",
       "    <tr>\n",
       "      <th>3</th>\n",
       "      <td>Extra_3</td>\n",
       "      <td>https://image.shutterstock.com/image-photo/mus...</td>\n",
       "      <td>&lt;PIL.Image.Image image mode=RGB size=150x150 a...</td>\n",
       "      <td>No Mask</td>\n",
       "      <td>No Mask</td>\n",
       "    </tr>\n",
       "    <tr>\n",
       "      <th>4</th>\n",
       "      <td>Extra_4</td>\n",
       "      <td>https://image.shutterstock.com/image-photo/fin...</td>\n",
       "      <td>&lt;PIL.Image.Image image mode=RGB size=150x150 a...</td>\n",
       "      <td>No Mask</td>\n",
       "      <td>No Mask</td>\n",
       "    </tr>\n",
       "    <tr>\n",
       "      <th>...</th>\n",
       "      <td>...</td>\n",
       "      <td>...</td>\n",
       "      <td>...</td>\n",
       "      <td>...</td>\n",
       "      <td>...</td>\n",
       "    </tr>\n",
       "    <tr>\n",
       "      <th>1237</th>\n",
       "      <td>Mask_610</td>\n",
       "      <td>https://image.shutterstock.com/image-photo/chi...</td>\n",
       "      <td>&lt;PIL.Image.Image image mode=RGB size=150x150 a...</td>\n",
       "      <td>Mask</td>\n",
       "      <td>Mask</td>\n",
       "    </tr>\n",
       "    <tr>\n",
       "      <th>1238</th>\n",
       "      <td>Mask_611</td>\n",
       "      <td>https://image.shutterstock.com/image-photo/wom...</td>\n",
       "      <td>&lt;PIL.Image.Image image mode=RGB size=150x150 a...</td>\n",
       "      <td>Mask</td>\n",
       "      <td>Mask</td>\n",
       "    </tr>\n",
       "    <tr>\n",
       "      <th>1239</th>\n",
       "      <td>Mask_612</td>\n",
       "      <td>https://image.shutterstock.com/image-photo/clo...</td>\n",
       "      <td>&lt;PIL.Image.Image image mode=RGB size=150x150 a...</td>\n",
       "      <td>Mask</td>\n",
       "      <td>No Mask</td>\n",
       "    </tr>\n",
       "    <tr>\n",
       "      <th>1240</th>\n",
       "      <td>Mask_613</td>\n",
       "      <td>https://image.shutterstock.com/image-photo/che...</td>\n",
       "      <td>&lt;PIL.Image.Image image mode=RGB size=150x150 a...</td>\n",
       "      <td>Mask</td>\n",
       "      <td>No Mask</td>\n",
       "    </tr>\n",
       "    <tr>\n",
       "      <th>1241</th>\n",
       "      <td>Mask_614</td>\n",
       "      <td>https://image.shutterstock.com/image-photo/you...</td>\n",
       "      <td>&lt;PIL.Image.Image image mode=RGB size=150x150 a...</td>\n",
       "      <td>Mask</td>\n",
       "      <td>Mask</td>\n",
       "    </tr>\n",
       "  </tbody>\n",
       "</table>\n",
       "<p>1242 rows × 5 columns</p>\n",
       "</div>"
      ],
      "text/plain": [
       "           _id                                         source_url  \\\n",
       "0      Extra_0  https://image.shutterstock.com/image-photo/smi...   \n",
       "1      Extra_1  https://image.shutterstock.com/image-photo/you...   \n",
       "2      Extra_2  https://image.shutterstock.com/image-photo/smi...   \n",
       "3      Extra_3  https://image.shutterstock.com/image-photo/mus...   \n",
       "4      Extra_4  https://image.shutterstock.com/image-photo/fin...   \n",
       "...        ...                                                ...   \n",
       "1237  Mask_610  https://image.shutterstock.com/image-photo/chi...   \n",
       "1238  Mask_611  https://image.shutterstock.com/image-photo/wom...   \n",
       "1239  Mask_612  https://image.shutterstock.com/image-photo/clo...   \n",
       "1240  Mask_613  https://image.shutterstock.com/image-photo/che...   \n",
       "1241  Mask_614  https://image.shutterstock.com/image-photo/you...   \n",
       "\n",
       "                                              numpy_arr   target  \\\n",
       "0     <PIL.Image.Image image mode=RGB size=150x150 a...  No Mask   \n",
       "1     <PIL.Image.Image image mode=RGB size=150x150 a...  No Mask   \n",
       "2     <PIL.Image.Image image mode=RGB size=150x150 a...  No Mask   \n",
       "3     <PIL.Image.Image image mode=RGB size=150x150 a...  No Mask   \n",
       "4     <PIL.Image.Image image mode=RGB size=150x150 a...  No Mask   \n",
       "...                                                 ...      ...   \n",
       "1237  <PIL.Image.Image image mode=RGB size=150x150 a...     Mask   \n",
       "1238  <PIL.Image.Image image mode=RGB size=150x150 a...     Mask   \n",
       "1239  <PIL.Image.Image image mode=RGB size=150x150 a...     Mask   \n",
       "1240  <PIL.Image.Image image mode=RGB size=150x150 a...     Mask   \n",
       "1241  <PIL.Image.Image image mode=RGB size=150x150 a...     Mask   \n",
       "\n",
       "     hand_labled_target  \n",
       "0               No Mask  \n",
       "1               No Mask  \n",
       "2               No Mask  \n",
       "3               No Mask  \n",
       "4               No Mask  \n",
       "...                 ...  \n",
       "1237               Mask  \n",
       "1238               Mask  \n",
       "1239            No Mask  \n",
       "1240            No Mask  \n",
       "1241               Mask  \n",
       "\n",
       "[1242 rows x 5 columns]"
      ]
     },
     "execution_count": 5,
     "metadata": {},
     "output_type": "execute_result"
    }
   ],
   "source": [
    "df = df[df[\"hand_labled_target\"].notna()]\n",
    "df"
   ]
  },
  {
   "cell_type": "markdown",
   "metadata": {},
   "source": [
    "# Saving PIL.Image files as png into a directory"
   ]
  },
  {
   "cell_type": "markdown",
   "metadata": {},
   "source": [
    "Create folders first"
   ]
  },
  {
   "cell_type": "code",
   "execution_count": 6,
   "metadata": {},
   "outputs": [],
   "source": [
    "base_dir = \"CNN_Images\"\n",
    "folders = [\"Train\", \"Test\"]\n",
    "categories  =  [\"Mask\", \"No_Mask\"]\n",
    "\n",
    "try:\n",
    "    # os.mkdir(base_dir)\n",
    "    os.mkdir(os.path.join(os.getcwd(), base_dir))\n",
    "except OSError as exc:\n",
    "    if exc.errno != errno.EEXIST:\n",
    "        raise\n",
    "    pass\n",
    "\n",
    "# Create folders for train, test, and validation\n",
    "for folder in folders:\n",
    "    try:\n",
    "        os.mkdir(os.path.join(os.getcwd(), base_dir, folder))\n",
    "    except OSError as exc:\n",
    "        if exc.errno != errno.EEXIST:\n",
    "            raise\n",
    "    pass\n",
    "\n",
    "    # Within each folder, create a mask and no mask folder\n",
    "    for cat in categories:\n",
    "        try:\n",
    "            os.mkdir(os.path.join(os.getcwd(), base_dir, folder, cat))\n",
    "        except OSError as exc:\n",
    "            if exc.errno != errno.EEXIST:\n",
    "                raise\n",
    "            pass"
   ]
  },
  {
   "cell_type": "markdown",
   "metadata": {},
   "source": [
    "Downloading images into respective directories"
   ]
  },
  {
   "cell_type": "code",
   "execution_count": 7,
   "metadata": {
    "scrolled": true
   },
   "outputs": [],
   "source": [
    "test_size = .2\n",
    "random.seed(2020)\n",
    "img_format = \"png\"\n",
    "#target = \"target\"\n",
    "target = \"hand_labled_target\"\n",
    "\n",
    "for index, row in df.iterrows():\n",
    "    #break # only run once\n",
    "    if row[target]==\"Mask\":\n",
    "        if random.random() < test_size:\n",
    "            path = os.path.join(base_dir, \"Test\", \"Mask\", \"{}.{}\".format(row[\"_id\"], img_format))\n",
    "        else:\n",
    "            path = os.path.join(base_dir, \"Train\", \"Mask\", \"{}.{}\".format(row[\"_id\"], img_format))\n",
    "        row[\"numpy_arr\"].save(path)\n",
    "        \n",
    "    elif row[target]==\"No Mask\":\n",
    "        if random.random() < test_size:\n",
    "            path = os.path.join(base_dir, \"Test\", \"No_Mask\", \"{}.{}\".format(row[\"_id\"], img_format))\n",
    "        else:\n",
    "            path = os.path.join(base_dir, \"Train\", \"No_Mask\", \"{}.{}\".format(row[\"_id\"], img_format))\n",
    "        row[\"numpy_arr\"].save(path)"
   ]
  },
  {
   "cell_type": "markdown",
   "metadata": {},
   "source": [
    "# Read, Images are labeled based on directory"
   ]
  },
  {
   "cell_type": "code",
   "execution_count": 8,
   "metadata": {},
   "outputs": [
    {
     "name": "stdout",
     "output_type": "stream",
     "text": [
      "Found 1018 images belonging to 2 classes.\n",
      "Found 224 images belonging to 2 classes.\n"
     ]
    }
   ],
   "source": [
    "from keras_preprocessing.image import ImageDataGenerator\n",
    "\n",
    "train_generator = ImageDataGenerator(rescale=1./255).flow_from_directory(\n",
    "        #'train',\n",
    "        os.path.join(base_dir, \"Train\"),\n",
    "        target_size=(150, 150),\n",
    "        class_mode='binary')\n",
    "test_generator = ImageDataGenerator(rescale=1./255).flow_from_directory(\n",
    "        #'test',\n",
    "        os.path.join(base_dir, \"Test\"),\n",
    "        target_size=(150, 150),\n",
    "        class_mode='binary')"
   ]
  },
  {
   "cell_type": "markdown",
   "metadata": {},
   "source": [
    "# Start by copying architecture from [Rock Paper Scissors](https://colab.research.google.com/github/lmoroney/dlaicourse/blob/master/Course%202%20-%20Part%208%20-%20Lesson%202%20-%20Notebook%20(RockPaperScissors).ipynb#scrollTo=LWTisYLQM1aM)"
   ]
  },
  {
   "cell_type": "markdown",
   "metadata": {},
   "source": [
    "## ~83% Accuracy on Testing Data\n",
    "- test_aze = .2\n",
    "- Number of Images = 726 and 1242\n",
    "- optimizer = 'adam'\n",
    "- epochs = 25\n",
    "- target = \"hand_labled_target\"\n",
    "- [Rock Paper Scissors CNN Architecture](https://colab.research.google.com/github/lmoroney/dlaicourse/blob/master/Course%202%20-%20Part%208%20-%20Lesson%202%20-%20Notebook%20(RockPaperScissors).ipynb#scrollTo=LWTisYLQM1aM)\n",
    "\n",
    "## Helpful things learned so far:\n",
    "Understanding the difference between Binary and Categorical output.\n",
    "> - When reading in data from directory, had to make sure I was using class_mode='binary' and not class_mode='categorical' <br>\n",
    "> - When doing Binary Classification, the activation function should be a sigmoid function, and not a softmax <br>\n",
    "> - [Reference from Stack OverFlow](https://stackoverflow.com/questions/61742556/valueerror-shapes-none-1-and-none-2-are-incompatible)\n",
    "## What to do next:\n",
    "Need to better understand, and explain the architecture of a neural network\n",
    "- [ ] Filters\n",
    "    - [ ] What they are\n",
    "    - [ ] How they can help here\n",
    "- [ ] Pooling\n",
    "    - [ ] What they are\n",
    "    - [ ] How they can help here\n",
    "- [ ] Number of layers\n",
    "- [ ] Number of nodes in layers\n",
    "- [ ] Should activation functions be constant from layer to layer?\n",
    "- [ ] Understand First layer Conv2D(64, (3,3) ,..., ...)"
   ]
  },
  {
   "cell_type": "code",
   "execution_count": 9,
   "metadata": {},
   "outputs": [
    {
     "name": "stdout",
     "output_type": "stream",
     "text": [
      "Model: \"sequential\"\n",
      "_________________________________________________________________\n",
      "Layer (type)                 Output Shape              Param #   \n",
      "=================================================================\n",
      "conv2d (Conv2D)              (None, 148, 148, 64)      1792      \n",
      "_________________________________________________________________\n",
      "max_pooling2d (MaxPooling2D) (None, 74, 74, 64)        0         \n",
      "_________________________________________________________________\n",
      "conv2d_1 (Conv2D)            (None, 72, 72, 64)        36928     \n",
      "_________________________________________________________________\n",
      "max_pooling2d_1 (MaxPooling2 (None, 36, 36, 64)        0         \n",
      "_________________________________________________________________\n",
      "conv2d_2 (Conv2D)            (None, 34, 34, 128)       73856     \n",
      "_________________________________________________________________\n",
      "max_pooling2d_2 (MaxPooling2 (None, 17, 17, 128)       0         \n",
      "_________________________________________________________________\n",
      "conv2d_3 (Conv2D)            (None, 15, 15, 128)       147584    \n",
      "_________________________________________________________________\n",
      "max_pooling2d_3 (MaxPooling2 (None, 7, 7, 128)         0         \n",
      "_________________________________________________________________\n",
      "flatten (Flatten)            (None, 6272)              0         \n",
      "_________________________________________________________________\n",
      "dropout (Dropout)            (None, 6272)              0         \n",
      "_________________________________________________________________\n",
      "dense (Dense)                (None, 256)               1605888   \n",
      "_________________________________________________________________\n",
      "dense_1 (Dense)              (None, 1)                 257       \n",
      "=================================================================\n",
      "Total params: 1,866,305\n",
      "Trainable params: 1,866,305\n",
      "Non-trainable params: 0\n",
      "_________________________________________________________________\n"
     ]
    }
   ],
   "source": [
    "model = tf.keras.models.Sequential([\n",
    "    # Note the input shape is the desired size of the image 150x150 with 3 bytes color\n",
    "    # This is the first convolution\n",
    "    tf.keras.layers.Conv2D(64, (3,3), activation='relu', input_shape=(150, 150, 3)),\n",
    "    tf.keras.layers.MaxPooling2D(2, 2),\n",
    "    # The second convolution\n",
    "    tf.keras.layers.Conv2D(64, (3,3), activation='relu'),\n",
    "    tf.keras.layers.MaxPooling2D(2,2),\n",
    "    # The third convolution\n",
    "    tf.keras.layers.Conv2D(128, (3,3), activation='relu'),\n",
    "    tf.keras.layers.MaxPooling2D(2,2),\n",
    "    # The fourth convolution\n",
    "    tf.keras.layers.Conv2D(128, (3,3), activation='relu'),\n",
    "    tf.keras.layers.MaxPooling2D(2,2),\n",
    "    # Flatten the results to feed into a DNN\n",
    "    tf.keras.layers.Flatten(),\n",
    "    tf.keras.layers.Dropout(0.5),\n",
    "    # 512 neuron hidden layer\n",
    "    tf.keras.layers.Dense(2**8, activation='relu'),\n",
    "    tf.keras.layers.Dense(1, activation='sigmoid')\n",
    "])\n",
    "\n",
    "model.compile(loss = 'binary_crossentropy', optimizer='adam', metrics=['accuracy'])\n",
    "model.summary()"
   ]
  },
  {
   "cell_type": "code",
   "execution_count": 10,
   "metadata": {
    "scrolled": true
   },
   "outputs": [
    {
     "name": "stdout",
     "output_type": "stream",
     "text": [
      "Epoch 1/25\n",
      "32/32 [==============================] - 120s 4s/step - loss: 0.6677 - accuracy: 0.6582 - val_loss: 0.6254 - val_accuracy: 0.7009\n",
      "Epoch 2/25\n",
      "32/32 [==============================] - 127s 4s/step - loss: 0.6125 - accuracy: 0.6690 - val_loss: 0.5978 - val_accuracy: 0.7143\n",
      "Epoch 3/25\n",
      "32/32 [==============================] - 114s 4s/step - loss: 0.5882 - accuracy: 0.6729 - val_loss: 0.5207 - val_accuracy: 0.7277\n",
      "Epoch 4/25\n",
      "32/32 [==============================] - 92s 3s/step - loss: 0.5397 - accuracy: 0.7102 - val_loss: 0.4844 - val_accuracy: 0.7679\n",
      "Epoch 5/25\n",
      "32/32 [==============================] - 89s 3s/step - loss: 0.5244 - accuracy: 0.7466 - val_loss: 0.4904 - val_accuracy: 0.7098\n",
      "Epoch 6/25\n",
      "32/32 [==============================] - 83s 3s/step - loss: 0.5051 - accuracy: 0.7613 - val_loss: 0.4914 - val_accuracy: 0.7188\n",
      "Epoch 7/25\n",
      "32/32 [==============================] - 83s 3s/step - loss: 0.4681 - accuracy: 0.7701 - val_loss: 0.4247 - val_accuracy: 0.7768\n",
      "Epoch 8/25\n",
      "32/32 [==============================] - 86s 3s/step - loss: 0.4616 - accuracy: 0.7839 - val_loss: 0.4071 - val_accuracy: 0.8125\n",
      "Epoch 9/25\n",
      "32/32 [==============================] - 91s 3s/step - loss: 0.3987 - accuracy: 0.8291 - val_loss: 0.3789 - val_accuracy: 0.8214\n",
      "Epoch 10/25\n",
      "32/32 [==============================] - 72s 2s/step - loss: 0.3627 - accuracy: 0.8379 - val_loss: 0.3624 - val_accuracy: 0.8527\n",
      "Epoch 11/25\n",
      "32/32 [==============================] - 74s 2s/step - loss: 0.3535 - accuracy: 0.8625 - val_loss: 0.4193 - val_accuracy: 0.8170\n",
      "Epoch 12/25\n",
      "32/32 [==============================] - 87s 3s/step - loss: 0.3404 - accuracy: 0.8566 - val_loss: 0.3501 - val_accuracy: 0.8393\n",
      "Epoch 13/25\n",
      "32/32 [==============================] - 76s 2s/step - loss: 0.2934 - accuracy: 0.8733 - val_loss: 0.4373 - val_accuracy: 0.8214\n",
      "Epoch 14/25\n",
      "32/32 [==============================] - 99s 3s/step - loss: 0.2489 - accuracy: 0.8969 - val_loss: 0.3081 - val_accuracy: 0.8616\n",
      "Epoch 15/25\n",
      "32/32 [==============================] - 82s 3s/step - loss: 0.1983 - accuracy: 0.9273 - val_loss: 0.3124 - val_accuracy: 0.8839\n",
      "Epoch 16/25\n",
      "32/32 [==============================] - 79s 2s/step - loss: 0.1635 - accuracy: 0.9332 - val_loss: 0.3061 - val_accuracy: 0.8571\n",
      "Epoch 17/25\n",
      "32/32 [==============================] - 92s 3s/step - loss: 0.2150 - accuracy: 0.9204 - val_loss: 0.3894 - val_accuracy: 0.8527\n",
      "Epoch 18/25\n",
      "32/32 [==============================] - 77s 2s/step - loss: 0.1890 - accuracy: 0.9253 - val_loss: 0.3448 - val_accuracy: 0.8393\n",
      "Epoch 19/25\n",
      "32/32 [==============================] - 92s 3s/step - loss: 0.1512 - accuracy: 0.9440 - val_loss: 0.3606 - val_accuracy: 0.8527\n",
      "Epoch 20/25\n",
      "32/32 [==============================] - 91s 3s/step - loss: 0.1168 - accuracy: 0.9528 - val_loss: 0.3881 - val_accuracy: 0.8571\n",
      "Epoch 21/25\n",
      "32/32 [==============================] - 109s 3s/step - loss: 0.1476 - accuracy: 0.9430 - val_loss: 0.4180 - val_accuracy: 0.8482\n",
      "Epoch 22/25\n",
      "32/32 [==============================] - 84s 3s/step - loss: 0.1189 - accuracy: 0.9578 - val_loss: 0.4814 - val_accuracy: 0.8571\n",
      "Epoch 23/25\n",
      "32/32 [==============================] - 89s 3s/step - loss: 0.0913 - accuracy: 0.9695 - val_loss: 0.3838 - val_accuracy: 0.8438\n",
      "Epoch 24/25\n",
      "32/32 [==============================] - 86s 3s/step - loss: 0.0510 - accuracy: 0.9804 - val_loss: 0.3857 - val_accuracy: 0.8616\n",
      "Epoch 25/25\n",
      "32/32 [==============================] - 85s 3s/step - loss: 0.0651 - accuracy: 0.9774 - val_loss: 0.3982 - val_accuracy: 0.8750\n",
      "CPU times: user 57min 6s, sys: 11min 28s, total: 1h 8min 34s\n",
      "Wall time: 38min 55s\n"
     ]
    }
   ],
   "source": [
    "%%time \n",
    "history = model.fit(train_generator, \n",
    "                    epochs=25,\n",
    "                    validation_data = test_generator)"
   ]
  },
  {
   "cell_type": "code",
   "execution_count": 11,
   "metadata": {},
   "outputs": [
    {
     "name": "stdout",
     "output_type": "stream",
     "text": [
      "training max 0.9803536534309387\n",
      "testing mean 0.8148214364051819\n"
     ]
    }
   ],
   "source": [
    "from statistics import mean\n",
    "\n",
    "print(\"training max\", max((history.history['accuracy'][14:])))\n",
    "print(\"testing mean\", mean((history.history['val_accuracy'])))"
   ]
  },
  {
   "cell_type": "code",
   "execution_count": 12,
   "metadata": {},
   "outputs": [
    {
     "data": {
      "image/png": "[encoded data removed]",
      "text/plain": [
       "<Figure size 432x288 with 1 Axes>"
      ]
     },
     "metadata": {
      "needs_background": "light"
     },
     "output_type": "display_data"
    }
   ],
   "source": [
    "import matplotlib.pyplot as plt\n",
    "\n",
    "num_epochs = range(len(history.history['accuracy']))\n",
    "\n",
    "plt.plot(num_epochs, history.history['accuracy'], 'r', label='Training accuracy')\n",
    "plt.plot(num_epochs, history.history['val_accuracy'], 'b', label='Validation accuracy')\n",
    "\n",
    "plt.title('Training and validation accuracy')\n",
    "plt.legend(loc=0)\n",
    "\n",
    "plt.show()"
   ]
  },
  {
   "cell_type": "markdown",
   "metadata": {},
   "source": [
    "# Save Model "
   ]
  },
  {
   "cell_type": "code",
   "execution_count": 14,
   "metadata": {},
   "outputs": [],
   "source": [
    "# model.save(\"Mask_vs_No_Mask_hand_labled_target.h5\")\n",
    "model.save(os.path.join(\"Models\", \"ModelMask_vs_No_Mask_{}.h5\".format(target)))"
   ]
  }
 ],
 "metadata": {
  "kernelspec": {
   "display_name": "Python 3",
   "language": "python",
   "name": "python3"
  },
  "language_info": {
   "codemirror_mode": {
    "name": "ipython",
    "version": 3
   },
   "file_extension": ".py",
   "mimetype": "text/x-python",
   "name": "python",
   "nbconvert_exporter": "python",
   "pygments_lexer": "ipython3",
   "version": "3.8.3"
  }
 },
 "nbformat": 4,
 "nbformat_minor": 4
}
